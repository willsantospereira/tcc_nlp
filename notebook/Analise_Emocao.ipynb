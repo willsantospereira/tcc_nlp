{
 "cells": [
  {
   "cell_type": "markdown",
   "metadata": {
    "id": "FnWzRI0p6Rv8"
   },
   "source": [
    "#### Montar pasta do Google Drive ####"
   ]
  },
  {
   "cell_type": "code",
   "execution_count": 59,
   "metadata": {
    "colab": {
     "base_uri": "https://localhost:8080/"
    },
    "executionInfo": {
     "elapsed": 1875,
     "status": "ok",
     "timestamp": 1648564867473,
     "user": {
      "displayName": "Willian dos Santos Pereira",
      "userId": "14574313425442770033"
     },
     "user_tz": 180
    },
    "id": "EwfYB_UVjLJ9",
    "outputId": "8618e395-181f-47b8-cb8f-8d9942199bf7"
   },
   "outputs": [],
   "source": [
    "# from google.colab import drive\n",
    "# drive.mount('/content/drive')"
   ]
  },
  {
   "cell_type": "markdown",
   "metadata": {
    "id": "5tU9LONa6pFQ"
   },
   "source": [
    "#### Imports e pip ####"
   ]
  },
  {
   "cell_type": "code",
   "execution_count": 163,
   "metadata": {
    "colab": {
     "base_uri": "https://localhost:8080/"
    },
    "executionInfo": {
     "elapsed": 10335,
     "status": "ok",
     "timestamp": 1648564877801,
     "user": {
      "displayName": "Willian dos Santos Pereira",
      "userId": "14574313425442770033"
     },
     "user_tz": 180
    },
    "id": "4bBdhgRx3aH5",
    "outputId": "b5e8f110-e114-4895-8e5b-5c37bd114bf0"
   },
   "outputs": [
    {
     "name": "stdout",
     "output_type": "stream",
     "text": [
      "Requirement already satisfied: transformers in c:\\users\\wills\\appdata\\local\\programs\\python\\python310\\lib\\site-packages (4.17.0)\n",
      "Requirement already satisfied: filelock in c:\\users\\wills\\appdata\\local\\programs\\python\\python310\\lib\\site-packages (from transformers) (3.6.0)\n",
      "Requirement already satisfied: sacremoses in c:\\users\\wills\\appdata\\local\\programs\\python\\python310\\lib\\site-packages (from transformers) (0.0.49)\n",
      "Requirement already satisfied: tokenizers!=0.11.3,>=0.11.1 in c:\\users\\wills\\appdata\\local\\programs\\python\\python310\\lib\\site-packages (from transformers) (0.11.6)\n",
      "Requirement already satisfied: tqdm>=4.27 in c:\\users\\wills\\appdata\\local\\programs\\python\\python310\\lib\\site-packages (from transformers) (4.63.1)\n",
      "Requirement already satisfied: regex!=2019.12.17 in c:\\users\\wills\\appdata\\local\\programs\\python\\python310\\lib\\site-packages (from transformers) (2022.3.15)\n",
      "Requirement already satisfied: pyyaml>=5.1 in c:\\users\\wills\\appdata\\local\\programs\\python\\python310\\lib\\site-packages (from transformers) (6.0)\n",
      "Requirement already satisfied: huggingface-hub<1.0,>=0.1.0 in c:\\users\\wills\\appdata\\local\\programs\\python\\python310\\lib\\site-packages (from transformers) (0.4.0)\n",
      "Requirement already satisfied: requests in c:\\users\\wills\\appdata\\local\\programs\\python\\python310\\lib\\site-packages (from transformers) (2.27.1)\n",
      "Requirement already satisfied: numpy>=1.17 in c:\\users\\wills\\appdata\\local\\programs\\python\\python310\\lib\\site-packages (from transformers) (1.22.3)\n",
      "Requirement already satisfied: packaging>=20.0 in c:\\users\\wills\\appdata\\local\\programs\\python\\python310\\lib\\site-packages (from transformers) (21.3)\n",
      "Requirement already satisfied: typing-extensions>=3.7.4.3 in c:\\users\\wills\\appdata\\local\\programs\\python\\python310\\lib\\site-packages (from huggingface-hub<1.0,>=0.1.0->transformers) (4.1.1)\n",
      "Requirement already satisfied: pyparsing!=3.0.5,>=2.0.2 in c:\\users\\wills\\appdata\\local\\programs\\python\\python310\\lib\\site-packages (from packaging>=20.0->transformers) (3.0.7)\n",
      "Requirement already satisfied: colorama in c:\\users\\wills\\appdata\\local\\programs\\python\\python310\\lib\\site-packages (from tqdm>=4.27->transformers) (0.4.4)\n",
      "Requirement already satisfied: idna<4,>=2.5 in c:\\users\\wills\\appdata\\local\\programs\\python\\python310\\lib\\site-packages (from requests->transformers) (3.3)\n",
      "Requirement already satisfied: urllib3<1.27,>=1.21.1 in c:\\users\\wills\\appdata\\local\\programs\\python\\python310\\lib\\site-packages (from requests->transformers) (1.26.9)\n",
      "Requirement already satisfied: charset-normalizer~=2.0.0 in c:\\users\\wills\\appdata\\local\\programs\\python\\python310\\lib\\site-packages (from requests->transformers) (2.0.12)\n",
      "Requirement already satisfied: certifi>=2017.4.17 in c:\\users\\wills\\appdata\\local\\programs\\python\\python310\\lib\\site-packages (from requests->transformers) (2021.10.8)\n",
      "Requirement already satisfied: six in c:\\users\\wills\\appdata\\local\\programs\\python\\python310\\lib\\site-packages (from sacremoses->transformers) (1.16.0)\n",
      "Requirement already satisfied: joblib in c:\\users\\wills\\appdata\\local\\programs\\python\\python310\\lib\\site-packages (from sacremoses->transformers) (1.1.0)\n",
      "Requirement already satisfied: click in c:\\users\\wills\\appdata\\local\\programs\\python\\python310\\lib\\site-packages (from sacremoses->transformers) (8.1.0)\n",
      "Requirement already satisfied: imbalanced-learn in c:\\users\\wills\\appdata\\local\\programs\\python\\python310\\lib\\site-packages (0.9.0)\n",
      "Requirement already satisfied: scikit-learn>=1.0.1 in c:\\users\\wills\\appdata\\local\\programs\\python\\python310\\lib\\site-packages (from imbalanced-learn) (1.0.2)\n",
      "Requirement already satisfied: numpy>=1.14.6 in c:\\users\\wills\\appdata\\local\\programs\\python\\python310\\lib\\site-packages (from imbalanced-learn) (1.22.3)\n",
      "Requirement already satisfied: scipy>=1.1.0 in c:\\users\\wills\\appdata\\local\\programs\\python\\python310\\lib\\site-packages (from imbalanced-learn) (1.8.0)\n",
      "Requirement already satisfied: threadpoolctl>=2.0.0 in c:\\users\\wills\\appdata\\local\\programs\\python\\python310\\lib\\site-packages (from imbalanced-learn) (3.1.0)\n",
      "Requirement already satisfied: joblib>=0.11 in c:\\users\\wills\\appdata\\local\\programs\\python\\python310\\lib\\site-packages (from imbalanced-learn) (1.1.0)\n",
      "Requirement already satisfied: pandas in c:\\users\\wills\\appdata\\local\\programs\\python\\python310\\lib\\site-packages (1.4.1)\n",
      "Requirement already satisfied: python-dateutil>=2.8.1 in c:\\users\\wills\\appdata\\local\\programs\\python\\python310\\lib\\site-packages (from pandas) (2.8.2)\n",
      "Requirement already satisfied: pytz>=2020.1 in c:\\users\\wills\\appdata\\local\\programs\\python\\python310\\lib\\site-packages (from pandas) (2022.1)\n",
      "Requirement already satisfied: numpy>=1.21.0 in c:\\users\\wills\\appdata\\local\\programs\\python\\python310\\lib\\site-packages (from pandas) (1.22.3)\n",
      "Requirement already satisfied: six>=1.5 in c:\\users\\wills\\appdata\\local\\programs\\python\\python310\\lib\\site-packages (from python-dateutil>=2.8.1->pandas) (1.16.0)\n",
      "Requirement already satisfied: nltk in c:\\users\\wills\\appdata\\local\\programs\\python\\python310\\lib\\site-packages (3.7)\n",
      "Requirement already satisfied: joblib in c:\\users\\wills\\appdata\\local\\programs\\python\\python310\\lib\\site-packages (from nltk) (1.1.0)\n",
      "Requirement already satisfied: tqdm in c:\\users\\wills\\appdata\\local\\programs\\python\\python310\\lib\\site-packages (from nltk) (4.63.1)\n",
      "Requirement already satisfied: click in c:\\users\\wills\\appdata\\local\\programs\\python\\python310\\lib\\site-packages (from nltk) (8.1.0)\n",
      "Requirement already satisfied: regex>=2021.8.3 in c:\\users\\wills\\appdata\\local\\programs\\python\\python310\\lib\\site-packages (from nltk) (2022.3.15)\n",
      "Requirement already satisfied: colorama in c:\\users\\wills\\appdata\\local\\programs\\python\\python310\\lib\\site-packages (from click->nltk) (0.4.4)\n",
      "Collecting mlxtend\n",
      "  Downloading mlxtend-0.19.0-py2.py3-none-any.whl (1.3 MB)\n",
      "     ---------------------------------------- 1.3/1.3 MB 4.5 MB/s eta 0:00:00\n",
      "Requirement already satisfied: matplotlib>=3.0.0 in c:\\users\\wills\\appdata\\local\\programs\\python\\python310\\lib\\site-packages (from mlxtend) (3.5.1)\n",
      "Requirement already satisfied: scikit-learn>=0.20.3 in c:\\users\\wills\\appdata\\local\\programs\\python\\python310\\lib\\site-packages (from mlxtend) (1.0.2)\n",
      "Requirement already satisfied: pandas>=0.24.2 in c:\\users\\wills\\appdata\\local\\programs\\python\\python310\\lib\\site-packages (from mlxtend) (1.4.1)\n",
      "Requirement already satisfied: scipy>=1.2.1 in c:\\users\\wills\\appdata\\local\\programs\\python\\python310\\lib\\site-packages (from mlxtend) (1.8.0)\n",
      "Requirement already satisfied: numpy>=1.16.2 in c:\\users\\wills\\appdata\\local\\programs\\python\\python310\\lib\\site-packages (from mlxtend) (1.22.3)\n",
      "Requirement already satisfied: joblib>=0.13.2 in c:\\users\\wills\\appdata\\local\\programs\\python\\python310\\lib\\site-packages (from mlxtend) (1.1.0)\n",
      "Requirement already satisfied: setuptools in c:\\users\\wills\\appdata\\local\\programs\\python\\python310\\lib\\site-packages (from mlxtend) (58.1.0)\n",
      "Requirement already satisfied: packaging>=20.0 in c:\\users\\wills\\appdata\\local\\programs\\python\\python310\\lib\\site-packages (from matplotlib>=3.0.0->mlxtend) (21.3)\n",
      "Requirement already satisfied: pillow>=6.2.0 in c:\\users\\wills\\appdata\\local\\programs\\python\\python310\\lib\\site-packages (from matplotlib>=3.0.0->mlxtend) (9.0.1)\n",
      "Requirement already satisfied: cycler>=0.10 in c:\\users\\wills\\appdata\\local\\programs\\python\\python310\\lib\\site-packages (from matplotlib>=3.0.0->mlxtend) (0.11.0)\n",
      "Requirement already satisfied: fonttools>=4.22.0 in c:\\users\\wills\\appdata\\local\\programs\\python\\python310\\lib\\site-packages (from matplotlib>=3.0.0->mlxtend) (4.31.2)\n",
      "Requirement already satisfied: python-dateutil>=2.7 in c:\\users\\wills\\appdata\\local\\programs\\python\\python310\\lib\\site-packages (from matplotlib>=3.0.0->mlxtend) (2.8.2)\n",
      "Requirement already satisfied: pyparsing>=2.2.1 in c:\\users\\wills\\appdata\\local\\programs\\python\\python310\\lib\\site-packages (from matplotlib>=3.0.0->mlxtend) (3.0.7)\n",
      "Requirement already satisfied: kiwisolver>=1.0.1 in c:\\users\\wills\\appdata\\local\\programs\\python\\python310\\lib\\site-packages (from matplotlib>=3.0.0->mlxtend) (1.4.2)\n",
      "Requirement already satisfied: pytz>=2020.1 in c:\\users\\wills\\appdata\\local\\programs\\python\\python310\\lib\\site-packages (from pandas>=0.24.2->mlxtend) (2022.1)\n",
      "Requirement already satisfied: threadpoolctl>=2.0.0 in c:\\users\\wills\\appdata\\local\\programs\\python\\python310\\lib\\site-packages (from scikit-learn>=0.20.3->mlxtend) (3.1.0)\n",
      "Requirement already satisfied: six>=1.5 in c:\\users\\wills\\appdata\\local\\programs\\python\\python310\\lib\\site-packages (from python-dateutil>=2.7->matplotlib>=3.0.0->mlxtend) (1.16.0)\n",
      "Installing collected packages: mlxtend\n",
      "Successfully installed mlxtend-0.19.0\n"
     ]
    }
   ],
   "source": [
    "!pip install transformers\n",
    "!pip install imbalanced-learn\n",
    "!pip install pandas\n",
    "!pip install nltk\n",
    "!pip install mlxtend"
   ]
  },
  {
   "cell_type": "code",
   "execution_count": 281,
   "metadata": {
    "executionInfo": {
     "elapsed": 260,
     "status": "ok",
     "timestamp": 1648578391391,
     "user": {
      "displayName": "Willian dos Santos Pereira",
      "userId": "14574313425442770033"
     },
     "user_tz": 180
    },
    "id": "IdnslPT42OKq"
   },
   "outputs": [],
   "source": [
    "import pandas as pd\n",
    "import nltk\n",
    "from sklearn.model_selection import train_test_split\n",
    "from sklearn.model_selection import cross_val_predict\n",
    "from sklearn.model_selection import cross_validate\n",
    "from sklearn.model_selection import cross_val_score\n",
    "from sklearn.model_selection import RepeatedStratifiedKFold\n",
    "from sklearn.model_selection import GridSearchCV\n",
    "from sklearn.model_selection import RandomizedSearchCV\n",
    "from sklearn.preprocessing import LabelEncoder\n",
    "from sklearn.feature_extraction.text import CountVectorizer\n",
    "from sklearn.feature_extraction.text import TfidfVectorizer\n",
    "from sklearn.naive_bayes import MultinomialNB\n",
    "from sklearn.naive_bayes import GaussianNB\n",
    "from sklearn.ensemble import RandomForestClassifier\n",
    "from sklearn.linear_model import LogisticRegression, SGDClassifier\n",
    "from sklearn.tree import DecisionTreeClassifier\n",
    "from sklearn.neighbors import KNeighborsClassifier\n",
    "from sklearn.ensemble import GradientBoostingClassifier\n",
    "from imblearn.under_sampling import RandomUnderSampler\n",
    "from sklearn.svm import SVC\n",
    "from sklearn.pipeline import Pipeline\n",
    "from sklearn import svm\n",
    "from sklearn import metrics\n",
    "from matplotlib import pyplot\n",
    "from scipy.stats import loguniform\n",
    "from IPython.display import display\n",
    "\n",
    "from nltk.stem import WordNetLemmatizer\n",
    "from nltk.corpus import stopwords\n",
    "import string\n",
    "import re"
   ]
  },
  {
   "cell_type": "code",
   "execution_count": 62,
   "metadata": {
    "colab": {
     "base_uri": "https://localhost:8080/"
    },
    "executionInfo": {
     "elapsed": 413,
     "status": "ok",
     "timestamp": 1648578392206,
     "user": {
      "displayName": "Willian dos Santos Pereira",
      "userId": "14574313425442770033"
     },
     "user_tz": 180
    },
    "id": "CLz7yoefpBHo",
    "outputId": "949cbff1-26eb-4dec-dc4e-20fe32bd173f"
   },
   "outputs": [
    {
     "name": "stderr",
     "output_type": "stream",
     "text": [
      "[nltk_data] Downloading package stopwords to\n",
      "[nltk_data]     C:\\Users\\wills\\AppData\\Roaming\\nltk_data...\n",
      "[nltk_data]   Package stopwords is already up-to-date!\n",
      "[nltk_data] Downloading package rslp to\n",
      "[nltk_data]     C:\\Users\\wills\\AppData\\Roaming\\nltk_data...\n",
      "[nltk_data]   Package rslp is already up-to-date!\n",
      "[nltk_data] Downloading package punkt to\n",
      "[nltk_data]     C:\\Users\\wills\\AppData\\Roaming\\nltk_data...\n",
      "[nltk_data]   Package punkt is already up-to-date!\n",
      "[nltk_data] Downloading package wordnet to\n",
      "[nltk_data]     C:\\Users\\wills\\AppData\\Roaming\\nltk_data...\n",
      "[nltk_data]   Package wordnet is already up-to-date!\n",
      "[nltk_data] Downloading package omw-1.4 to\n",
      "[nltk_data]     C:\\Users\\wills\\AppData\\Roaming\\nltk_data...\n",
      "[nltk_data]   Package omw-1.4 is already up-to-date!\n"
     ]
    },
    {
     "data": {
      "text/plain": [
       "True"
      ]
     },
     "execution_count": 62,
     "metadata": {},
     "output_type": "execute_result"
    }
   ],
   "source": [
    "# termos muito frequentes que não tem relevância nos dados. São palavras que possuem apenas significado sintático dentro da sentença, porém não trazem informações relevantes sobre o seu sentido.\n",
    "nltk.download('stopwords')\n",
    "# RSLP Stemmer (Removedor de Sufixos da Lingua Portuguesa)\n",
    "nltk.download('rslp')\n",
    "# punkt é um tokenizer \n",
    "nltk.download('punkt')\n",
    "# dicionário de léxicos (conjunto de vocabulários de determinado idioma) e hierarquia de termos\n",
    "nltk.download('wordnet')\n",
    "nltk.download('omw-1.4')"
   ]
  },
  {
   "cell_type": "markdown",
   "metadata": {
    "id": "At17kj3m6lnL"
   },
   "source": [
    "#### Carregar os dados nos dataframes ####"
   ]
  },
  {
   "cell_type": "code",
   "execution_count": 63,
   "metadata": {
    "executionInfo": {
     "elapsed": 17,
     "status": "ok",
     "timestamp": 1648578392206,
     "user": {
      "displayName": "Willian dos Santos Pereira",
      "userId": "14574313425442770033"
     },
     "user_tz": 180
    },
    "id": "pSocDiFn5Iut"
   },
   "outputs": [],
   "source": [
    "df_teste = pd.read_csv('../dataset/teste.csv', sep=';', names=('texto', 'emocao'), encoding='utf-8', header=None)\n",
    "df_treino = pd.read_csv('../dataset/treino.csv', sep=';', names=('texto', 'emocao'), encoding='utf-8', header=None)\n",
    "df_validacao = pd.read_csv('../dataset/validacao.csv', sep=';', names=('texto', 'emocao'), encoding='utf-8', header=None)\n",
    "df = pd.concat([df_treino, df_teste, df_validacao])"
   ]
  },
  {
   "cell_type": "markdown",
   "metadata": {
    "id": "l_kN8q5RbieO"
   },
   "source": [
    "#### Análise dos dados (tamanho dataset, valores para emoção, dados nulos/NaN)"
   ]
  },
  {
   "cell_type": "code",
   "execution_count": 64,
   "metadata": {},
   "outputs": [
    {
     "data": {
      "text/plain": [
       "texto     20004\n",
       "emocao    19995\n",
       "dtype: int64"
      ]
     },
     "execution_count": 64,
     "metadata": {},
     "output_type": "execute_result"
    }
   ],
   "source": [
    "df.count()"
   ]
  },
  {
   "cell_type": "code",
   "execution_count": 65,
   "metadata": {
    "executionInfo": {
     "elapsed": 15,
     "status": "ok",
     "timestamp": 1648578392207,
     "user": {
      "displayName": "Willian dos Santos Pereira",
      "userId": "14574313425442770033"
     },
     "user_tz": 180
    },
    "id": "3DA9kIwInb_o"
   },
   "outputs": [
    {
     "data": {
      "text/html": [
       "<div>\n",
       "<style scoped>\n",
       "    .dataframe tbody tr th:only-of-type {\n",
       "        vertical-align: middle;\n",
       "    }\n",
       "\n",
       "    .dataframe tbody tr th {\n",
       "        vertical-align: top;\n",
       "    }\n",
       "\n",
       "    .dataframe thead th {\n",
       "        text-align: right;\n",
       "    }\n",
       "</style>\n",
       "<table border=\"1\" class=\"dataframe\">\n",
       "  <thead>\n",
       "    <tr style=\"text-align: right;\">\n",
       "      <th></th>\n",
       "      <th>texto</th>\n",
       "      <th>emocao</th>\n",
       "    </tr>\n",
       "  </thead>\n",
       "  <tbody>\n",
       "    <tr>\n",
       "      <th>0</th>\n",
       "      <td>não me senti humilhado</td>\n",
       "      <td>tristeza</td>\n",
       "    </tr>\n",
       "    <tr>\n",
       "      <th>1</th>\n",
       "      <td>posso passar de me sentindo tão sem esperança ...</td>\n",
       "      <td>tristeza</td>\n",
       "    </tr>\n",
       "    <tr>\n",
       "      <th>2</th>\n",
       "      <td>estou pegando um minuto para postar me sinto g...</td>\n",
       "      <td>raiva</td>\n",
       "    </tr>\n",
       "  </tbody>\n",
       "</table>\n",
       "</div>"
      ],
      "text/plain": [
       "                                               texto     emocao\n",
       "0                             não me senti humilhado   tristeza\n",
       "1  posso passar de me sentindo tão sem esperança ...   tristeza\n",
       "2  estou pegando um minuto para postar me sinto g...      raiva"
      ]
     },
     "execution_count": 65,
     "metadata": {},
     "output_type": "execute_result"
    }
   ],
   "source": [
    "df.head(3)"
   ]
  },
  {
   "cell_type": "code",
   "execution_count": 66,
   "metadata": {
    "executionInfo": {
     "elapsed": 15,
     "status": "ok",
     "timestamp": 1648578392208,
     "user": {
      "displayName": "Willian dos Santos Pereira",
      "userId": "14574313425442770033"
     },
     "user_tz": 180
    },
    "id": "jQ9OHOjjUWb5"
   },
   "outputs": [
    {
     "data": {
      "text/plain": [
       "<AxesSubplot:>"
      ]
     },
     "execution_count": 66,
     "metadata": {},
     "output_type": "execute_result"
    },
    {
     "data": {
      "image/png": "[encoded data removed]",
      "text/plain": [
       "<Figure size 432x288 with 1 Axes>"
      ]
     },
     "metadata": {
      "needs_background": "light"
     },
     "output_type": "display_data"
    }
   ],
   "source": [
    "%matplotlib inline\n",
    "df['emocao'].value_counts().plot(kind='bar')"
   ]
  },
  {
   "cell_type": "markdown",
   "metadata": {
    "id": "_QBVSHNIbwBu"
   },
   "source": [
    "#### Feature Engineer:\n",
    "\n",
    "* Análise dos dados (tamanho dataset, valores para emoção, dados nulos/NaN)\n",
    "* Remover valores nulos/NAN\n",
    "* Remover linhas duplicadas"
   ]
  },
  {
   "cell_type": "code",
   "execution_count": 67,
   "metadata": {
    "colab": {
     "base_uri": "https://localhost:8080/"
    },
    "executionInfo": {
     "elapsed": 14,
     "status": "ok",
     "timestamp": 1648578392210,
     "user": {
      "displayName": "Willian dos Santos Pereira",
      "userId": "14574313425442770033"
     },
     "user_tz": 180
    },
    "id": "QBUXTVrG0DLL",
    "outputId": "2d128e09-6188-4a50-bce5-68f3b7d0c3c3"
   },
   "outputs": [
    {
     "data": {
      "text/plain": [
       "texto     0\n",
       "emocao    9\n",
       "dtype: int64"
      ]
     },
     "execution_count": 67,
     "metadata": {},
     "output_type": "execute_result"
    }
   ],
   "source": [
    "df.isna().sum()"
   ]
  },
  {
   "cell_type": "code",
   "execution_count": 68,
   "metadata": {
    "executionInfo": {
     "elapsed": 577,
     "status": "ok",
     "timestamp": 1648578392777,
     "user": {
      "displayName": "Willian dos Santos Pereira",
      "userId": "14574313425442770033"
     },
     "user_tz": 180
    },
    "id": "Ma5MuGHbaqfe"
   },
   "outputs": [],
   "source": [
    "df = df.dropna()"
   ]
  },
  {
   "cell_type": "code",
   "execution_count": 69,
   "metadata": {
    "colab": {
     "base_uri": "https://localhost:8080/"
    },
    "executionInfo": {
     "elapsed": 13,
     "status": "ok",
     "timestamp": 1648578392778,
     "user": {
      "displayName": "Willian dos Santos Pereira",
      "userId": "14574313425442770033"
     },
     "user_tz": 180
    },
    "id": "FBI6C-o906d3",
    "outputId": "f3bb747b-4e62-4dcd-d237-778db77650cf"
   },
   "outputs": [
    {
     "data": {
      "text/plain": [
       "texto     0\n",
       "emocao    0\n",
       "dtype: int64"
      ]
     },
     "execution_count": 69,
     "metadata": {},
     "output_type": "execute_result"
    }
   ],
   "source": [
    "df.isna().sum()"
   ]
  },
  {
   "cell_type": "code",
   "execution_count": 70,
   "metadata": {
    "colab": {
     "base_uri": "https://localhost:8080/"
    },
    "executionInfo": {
     "elapsed": 14,
     "status": "ok",
     "timestamp": 1648578392779,
     "user": {
      "displayName": "Willian dos Santos Pereira",
      "userId": "14574313425442770033"
     },
     "user_tz": 180
    },
    "id": "CgaE9f2509SB",
    "outputId": "ffb41555-90ca-4a98-8451-12a9850f2975"
   },
   "outputs": [
    {
     "data": {
      "text/plain": [
       "texto     19995\n",
       "emocao    19995\n",
       "dtype: int64"
      ]
     },
     "execution_count": 70,
     "metadata": {},
     "output_type": "execute_result"
    }
   ],
   "source": [
    "df.count()"
   ]
  },
  {
   "cell_type": "code",
   "execution_count": 71,
   "metadata": {
    "executionInfo": {
     "elapsed": 13,
     "status": "ok",
     "timestamp": 1648578392779,
     "user": {
      "displayName": "Willian dos Santos Pereira",
      "userId": "14574313425442770033"
     },
     "user_tz": 180
    },
    "id": "8vvTg9EibEsK"
   },
   "outputs": [],
   "source": [
    "df = df.drop_duplicates(['texto'])"
   ]
  },
  {
   "cell_type": "code",
   "execution_count": 72,
   "metadata": {
    "colab": {
     "base_uri": "https://localhost:8080/"
    },
    "executionInfo": {
     "elapsed": 14,
     "status": "ok",
     "timestamp": 1648578392780,
     "user": {
      "displayName": "Willian dos Santos Pereira",
      "userId": "14574313425442770033"
     },
     "user_tz": 180
    },
    "id": "I9zRw8WZbPyQ",
    "outputId": "18600190-f606-4a70-9e37-0a28bbf88ad7"
   },
   "outputs": [
    {
     "data": {
      "text/plain": [
       "texto     19918\n",
       "emocao    19918\n",
       "dtype: int64"
      ]
     },
     "execution_count": 72,
     "metadata": {},
     "output_type": "execute_result"
    }
   ],
   "source": [
    "df.count()"
   ]
  },
  {
   "cell_type": "markdown",
   "metadata": {
    "id": "QtqVKEkdb_aF"
   },
   "source": [
    "#### Defini funções para pre processamento"
   ]
  },
  {
   "cell_type": "code",
   "execution_count": 73,
   "metadata": {
    "executionInfo": {
     "elapsed": 14,
     "status": "ok",
     "timestamp": 1648578392780,
     "user": {
      "displayName": "Willian dos Santos Pereira",
      "userId": "14574313425442770033"
     },
     "user_tz": 180
    },
    "id": "N13-mYlY3gor"
   },
   "outputs": [],
   "source": [
    "pontuacao = list(string.punctuation)"
   ]
  },
  {
   "cell_type": "code",
   "execution_count": 74,
   "metadata": {
    "executionInfo": {
     "elapsed": 13,
     "status": "ok",
     "timestamp": 1648578392780,
     "user": {
      "displayName": "Willian dos Santos Pereira",
      "userId": "14574313425442770033"
     },
     "user_tz": 180
    },
    "id": "118msRTH3j6z"
   },
   "outputs": [],
   "source": [
    "def exclui_palavras_irrelevantes(texto):\n",
    "    stops = set(stopwords.words('portuguese') + pontuacao)\n",
    "    palavras = [i for i in texto.split() if not i in stops]\n",
    "    return (\" \".join(palavras))"
   ]
  },
  {
   "cell_type": "code",
   "execution_count": 75,
   "metadata": {
    "executionInfo": {
     "elapsed": 14,
     "status": "ok",
     "timestamp": 1648578392781,
     "user": {
      "displayName": "Willian dos Santos Pereira",
      "userId": "14574313425442770033"
     },
     "user_tz": 180
    },
    "id": "shNCY2Bh3m32"
   },
   "outputs": [],
   "source": [
    "def exclui_radicais(texto):\n",
    "    stemmer = nltk.stem.RSLPStemmer()\n",
    "    palavras = []\n",
    "    for w in texto.split():\n",
    "        palavras.append(stemmer.stem(w))\n",
    "    return (\" \".join(palavras))"
   ]
  },
  {
   "cell_type": "code",
   "execution_count": 76,
   "metadata": {
    "executionInfo": {
     "elapsed": 14,
     "status": "ok",
     "timestamp": 1648578392781,
     "user": {
      "displayName": "Willian dos Santos Pereira",
      "userId": "14574313425442770033"
     },
     "user_tz": 180
    },
    "id": "RAIULG2Q3oRV"
   },
   "outputs": [],
   "source": [
    "def exclui_pontuacao(texto):\n",
    "    palavras = [i for i in texto if not i in pontuacao]\n",
    "    return (\"\".join(palavras))"
   ]
  },
  {
   "cell_type": "code",
   "execution_count": 268,
   "metadata": {
    "executionInfo": {
     "elapsed": 14,
     "status": "ok",
     "timestamp": 1648578392781,
     "user": {
      "displayName": "Willian dos Santos Pereira",
      "userId": "14574313425442770033"
     },
     "user_tz": 180
    },
    "id": "w0Md9Noz3q_3"
   },
   "outputs": [],
   "source": [
    "def lemmatization(instancia):\n",
    "    wordnet_lemmatizer = WordNetLemmatizer()\n",
    "    palavras = []\n",
    "    for w in instancia.split():\n",
    "        palavras.append(wordnet_lemmatizer.lemmatize(w))\n",
    "    return (\" \".join(palavras))"
   ]
  },
  {
   "cell_type": "markdown",
   "metadata": {
    "id": "rs2lkFU9nkxB"
   },
   "source": [
    "\n",
    "#### Aplica as funções de pre-processamento nos dados e split Train / Test dataset\n",
    "\n",
    "* Avaliar o uso do Stemming (remove o radical das palavras (Ex. altera frequentemente para frenquent, imediatamente para imediat), isso pode trazer um problema pois ele pode gerar palavras que não existem no idioma.\n",
    "* Avaliar o uso do Lemmatization (Ex. uma forma de Stemming que mantém a palavra com significado real (Ex. altera frequentemente para frenquente, imediatamente para imediato). O problema dessa abordagem, é que o Lemmatizer do NLTK utiliza o Dicionário da WordNet que não é específico para o Portugues"
   ]
  },
  {
   "cell_type": "code",
   "execution_count": 269,
   "metadata": {
    "executionInfo": {
     "elapsed": 15,
     "status": "ok",
     "timestamp": 1648578392782,
     "user": {
      "displayName": "Willian dos Santos Pereira",
      "userId": "14574313425442770033"
     },
     "user_tz": 180
    },
    "id": "aZR07wS_o8No"
   },
   "outputs": [],
   "source": [
    "def pre_processing(texto, show_results=False):\n",
    "    stemmer = exclui_radicais(texto)\n",
    "    pont = exclui_pontuacao(stemmer)\n",
    "    stops = exclui_palavras_irrelevantes(pont)\n",
    "    lemma = lemmatization(stops)\n",
    "    # palavras = [stemmer.stem(i) for i in instancia.split() if not i in stops]\n",
    "    if(show_results):\n",
    "        print('Original text: {}'.format(texto))\n",
    "        print('Stemmer aplicado: {}'.format(stemmer))\n",
    "        print('Exclusao de pontuação aplicado: {}'.format(pont))\n",
    "        print('Exclusao de stopwords aplicado: {}'.format(stops))\n",
    "    return (\"\".join(lemma))"
   ]
  },
  {
   "cell_type": "code",
   "execution_count": 79,
   "metadata": {
    "colab": {
     "base_uri": "https://localhost:8080/"
    },
    "executionInfo": {
     "elapsed": 14,
     "status": "ok",
     "timestamp": 1648578392782,
     "user": {
      "displayName": "Willian dos Santos Pereira",
      "userId": "14574313425442770033"
     },
     "user_tz": 180
    },
    "id": "hPxD09jbBpWP",
    "outputId": "c5506fce-58a9-4ccd-99fd-c5e30d3ba701"
   },
   "outputs": [
    {
     "data": {
      "text/plain": [
       " alegria     6735\n",
       " tristeza    5779\n",
       " raiva       2698\n",
       " medo        2365\n",
       " amar        1629\n",
       " surpresa     712\n",
       "Name: emocao, dtype: int64"
      ]
     },
     "execution_count": 79,
     "metadata": {},
     "output_type": "execute_result"
    }
   ],
   "source": [
    "# Analise sobre possível desbalanceamento de classes\n",
    "df['emocao'].value_counts()"
   ]
  },
  {
   "cell_type": "code",
   "execution_count": 80,
   "metadata": {
    "colab": {
     "base_uri": "https://localhost:8080/",
     "height": 321
    },
    "executionInfo": {
     "elapsed": 14,
     "status": "ok",
     "timestamp": 1648578392782,
     "user": {
      "displayName": "Willian dos Santos Pereira",
      "userId": "14574313425442770033"
     },
     "user_tz": 180
    },
    "id": "w0TbyIAgAROk",
    "outputId": "7a38e15f-567e-4005-e122-2aa4e4702dfb"
   },
   "outputs": [
    {
     "data": {
      "text/plain": [
       "<AxesSubplot:>"
      ]
     },
     "execution_count": 80,
     "metadata": {},
     "output_type": "execute_result"
    },
    {
     "data": {
      "image/png": "[encoded data removed]",
      "text/plain": [
       "<Figure size 432x288 with 1 Axes>"
      ]
     },
     "metadata": {
      "needs_background": "light"
     },
     "output_type": "display_data"
    }
   ],
   "source": [
    "# Analise sobre possível desbalanceamento de classes\n",
    "%matplotlib inline\n",
    "df['emocao'].value_counts().plot(kind='bar')\n",
    "\n",
    "# pyplot.plot(df['emocao'].value_counts())\n",
    "# pyplot.show()"
   ]
  },
  {
   "cell_type": "code",
   "execution_count": 81,
   "metadata": {
    "executionInfo": {
     "elapsed": 41953,
     "status": "ok",
     "timestamp": 1648578434724,
     "user": {
      "displayName": "Willian dos Santos Pereira",
      "userId": "14574313425442770033"
     },
     "user_tz": 180
    },
    "id": "JU40ezraBuyI"
   },
   "outputs": [],
   "source": [
    "# aplicando os processos de tratamento nos texto (retirada de pontuação, stopwords, stemmer e lemmatization)\n",
    "X = [pre_processing(i) for i in df['texto']]"
   ]
  },
  {
   "cell_type": "code",
   "execution_count": 114,
   "metadata": {
    "executionInfo": {
     "elapsed": 22,
     "status": "ok",
     "timestamp": 1648578434725,
     "user": {
      "displayName": "Willian dos Santos Pereira",
      "userId": "14574313425442770033"
     },
     "user_tz": 180
    },
    "id": "mWNij_v02xVS"
   },
   "outputs": [],
   "source": [
    "labelencoder = LabelEncoder()\n",
    "y_train_enco = labelencoder.fit_transform(df['emocao'])\n",
    "\n",
    "X_train, X_test, y_train, y_test = train_test_split(pd.Series(X), pd.Series(y_train_enco), random_state=41, test_size=0.2, stratify=pd.Series(y_train_enco))\n",
    "\n",
    "# Com o uso do Undersampler a performce do modelo piora, muito provavelmente devido a grande diminuição de dados\n",
    "undersample = RandomUnderSampler()\n",
    "X_under, y_under = undersample.fit_resample(pd.DataFrame(X), pd.Series(y_train_enco))\n",
    "X_train_under, X_test_under, y_train_under, y_test_under = train_test_split(X_under.squeeze(), y_under, random_state=41, test_size=0.2, stratify=y_under)"
   ]
  },
  {
   "cell_type": "code",
   "execution_count": 115,
   "metadata": {},
   "outputs": [
    {
     "data": {
      "text/plain": [
       "pandas.core.series.Series"
      ]
     },
     "execution_count": 115,
     "metadata": {},
     "output_type": "execute_result"
    }
   ],
   "source": [
    "type(X_test_under)"
   ]
  },
  {
   "cell_type": "code",
   "execution_count": 116,
   "metadata": {
    "colab": {
     "base_uri": "https://localhost:8080/",
     "height": 279
    },
    "executionInfo": {
     "elapsed": 17,
     "status": "ok",
     "timestamp": 1648578434726,
     "user": {
      "displayName": "Willian dos Santos Pereira",
      "userId": "14574313425442770033"
     },
     "user_tz": 180
    },
    "id": "rk957PT4HimB",
    "outputId": "26b0a752-13c2-4e3e-967d-63fa70a63e71"
   },
   "outputs": [
    {
     "data": {
      "text/plain": [
       "<AxesSubplot:>"
      ]
     },
     "execution_count": 116,
     "metadata": {},
     "output_type": "execute_result"
    },
    {
     "data": {
      "image/png": "[encoded data removed]",
      "text/plain": [
       "<Figure size 432x288 with 1 Axes>"
      ]
     },
     "metadata": {
      "needs_background": "light"
     },
     "output_type": "display_data"
    }
   ],
   "source": [
    "# analisando o resultado da aplicação de undersampler nas classes para ficarem próximas ao da classe minoritária\n",
    "%matplotlib inline\n",
    "y_train_under.value_counts().plot(kind='bar')"
   ]
  },
  {
   "cell_type": "markdown",
   "metadata": {
    "id": "f5R5Ou66q4r6"
   },
   "source": [
    "#### Tokenização - Importante. Por não se tratar de uma análise de dados recuperados da internet, onde existe um linguajar específico onde é usado emoticons, hashtag, emojis e etc, para essa análise não precisamos utilizar o Tokenizer do Tweeter para tratar esse tipo de linguajar. Podemos usar o Tokenizer de palavras normais e entender que o espaço é o suficiente para separar as palavras sem afetar o sentido do textos"
   ]
  },
  {
   "cell_type": "markdown",
   "metadata": {
    "id": "FYr2VVjobKHV"
   },
   "source": [
    "#### Frases e Predições de teste"
   ]
  },
  {
   "cell_type": "code",
   "execution_count": 117,
   "metadata": {
    "executionInfo": {
     "elapsed": 9,
     "status": "ok",
     "timestamp": 1648578435253,
     "user": {
      "displayName": "Willian dos Santos Pereira",
      "userId": "14574313425442770033"
     },
     "user_tz": 180
    },
    "id": "GpjOBeMSbRm9"
   },
   "outputs": [],
   "source": [
    "testes = ['eu posso ter para um deleite ou se estou me sentindo festivo',\n",
    "          'estou me sentindo muito triste e com pena de mim mesma, mas logo vou me livrar disso',\n",
    "          'estou apenas me sentindo mal-humorada e azul ',\n",
    "          'só sei que, para começar, vou me sentir tímido com isso',\n",
    "          'eu também adorei que você pudesse realmente sentir o desespero nessas sequências e eu gostei especialmente da emoção entre cavaleiro e escudeiro, já que eles estão juntos de maneira semelhante a batman e robin há muito tempo',\n",
    "          'estou me sentindo um pouco atordoada com a quantidade de itens que não uso mais para decoração']\n",
    "\n",
    "predicao_correta = ['alegria', 'tristeza', 'raiva', 'medo', 'amar', 'surpresa']"
   ]
  },
  {
   "cell_type": "code",
   "execution_count": 118,
   "metadata": {
    "executionInfo": {
     "elapsed": 8,
     "status": "ok",
     "timestamp": 1648578435253,
     "user": {
      "displayName": "Willian dos Santos Pereira",
      "userId": "14574313425442770033"
     },
     "user_tz": 180
    },
    "id": "K0NVAsdTbVpw"
   },
   "outputs": [],
   "source": [
    "testes = [pre_processing(i) for i in testes]"
   ]
  },
  {
   "cell_type": "code",
   "execution_count": 119,
   "metadata": {
    "executionInfo": {
     "elapsed": 6,
     "status": "ok",
     "timestamp": 1648578435253,
     "user": {
      "displayName": "Willian dos Santos Pereira",
      "userId": "14574313425442770033"
     },
     "user_tz": 180
    },
    "id": "TuHLIhVtDJE_"
   },
   "outputs": [],
   "source": [
    "# Transforma os dados de teste em vetores de palavras.\n",
    "tfidf_vectorizer = TfidfVectorizer()\n",
    "tfidf_vectorizer.fit(X_train)\n",
    "texto_teste_vetorizado = tfidf_vectorizer.transform(testes)"
   ]
  },
  {
   "cell_type": "markdown",
   "metadata": {
    "id": "RHgrn-_8BrEz"
   },
   "source": [
    "#### Vetorização dos textos\n",
    "\n",
    "*   CountVectorizer: [BagOfWords Model] - É uma representação numérica de uma fração do texto que facilita a classificação, dessa forma o algoritmo conta a frequnência com que a palavra aparece no texto e cria um dicionário disso. Isso é chamado de Tokenization in NLP (Natural Language Processing). O CountVectorizer realiza esse processo\n",
    "*   TfidfVectorizer: Transforma texto em vetores de recursos que podem ser usados ​​como entrada para o estimador\n",
    "\n"
   ]
  },
  {
   "cell_type": "code",
   "execution_count": 120,
   "metadata": {
    "executionInfo": {
     "elapsed": 6,
     "status": "ok",
     "timestamp": 1648578435254,
     "user": {
      "displayName": "Willian dos Santos Pereira",
      "userId": "14574313425442770033"
     },
     "user_tz": 180
    },
    "id": "vPoHzu1-Dspe"
   },
   "outputs": [],
   "source": [
    "def get_vectorize_instance(vectorize_name):\n",
    "    if(vectorize_name == 'CountVectorizer'):\n",
    "        return CountVectorizer(analyzer=\"word\")\n",
    "    elif(vectorize_name == 'TfidfVectorizer'):\n",
    "        return TfidfVectorizer()\n",
    "    else:\n",
    "        raise Exception(\"Vectorizer not found!\")"
   ]
  },
  {
   "cell_type": "code",
   "execution_count": 121,
   "metadata": {
    "executionInfo": {
     "elapsed": 6,
     "status": "ok",
     "timestamp": 1648578435254,
     "user": {
      "displayName": "Willian dos Santos Pereira",
      "userId": "14574313425442770033"
     },
     "user_tz": 180
    },
    "id": "fVR4jpwgDN5x"
   },
   "outputs": [],
   "source": [
    "def vectorize_dataframe(vectorizer, X_train, X_test):\n",
    "    if(type(vectorizer) is CountVectorizer):\n",
    "        train_data = vectorizer.fit_transform(X_train)\n",
    "        test_data = vectorizer.transform(X_test)\n",
    "        return train_data, test_data\n",
    "    elif (type(vectorizer) is TfidfVectorizer):\n",
    "        vectorizer.fit(X_train)\n",
    "        train_data = vectorizer.transform(X_train)\n",
    "        test_data = vectorizer.transform(X_test)\n",
    "        return train_data, test_data\n",
    "    else:\n",
    "        raise Exception(\"Vectorizer type incorrect!\")"
   ]
  },
  {
   "cell_type": "code",
   "execution_count": 122,
   "metadata": {
    "executionInfo": {
     "elapsed": 6,
     "status": "ok",
     "timestamp": 1648578435254,
     "user": {
      "displayName": "Willian dos Santos Pereira",
      "userId": "14574313425442770033"
     },
     "user_tz": 180
    },
    "id": "1b-rTQrlIlXz"
   },
   "outputs": [],
   "source": [
    "def train_model(modelo, X_train, y_train):\n",
    "    return modelo.fit(X_train, y_train)"
   ]
  },
  {
   "cell_type": "code",
   "execution_count": 123,
   "metadata": {
    "executionInfo": {
     "elapsed": 6,
     "status": "ok",
     "timestamp": 1648578435254,
     "user": {
      "displayName": "Willian dos Santos Pereira",
      "userId": "14574313425442770033"
     },
     "user_tz": 180
    },
    "id": "dREI1OXOQqK9"
   },
   "outputs": [],
   "source": [
    "def predict_model(modelo, X_test):\n",
    "    return modelo.predict(X_test)"
   ]
  },
  {
   "cell_type": "code",
   "execution_count": 124,
   "metadata": {
    "executionInfo": {
     "elapsed": 7,
     "status": "ok",
     "timestamp": 1648578435255,
     "user": {
      "displayName": "Willian dos Santos Pereira",
      "userId": "14574313425442770033"
     },
     "user_tz": 180
    },
    "id": "TQkMOmtqQ_CO"
   },
   "outputs": [],
   "source": [
    "def score_model(modelo, X_test, y_test):\n",
    "    return modelo.score(X_test, y_test)"
   ]
  },
  {
   "cell_type": "code",
   "execution_count": 286,
   "metadata": {
    "executionInfo": {
     "elapsed": 7,
     "status": "ok",
     "timestamp": 1648578435255,
     "user": {
      "displayName": "Willian dos Santos Pereira",
      "userId": "14574313425442770033"
     },
     "user_tz": 180
    },
    "id": "drStZD6Gv9fe"
   },
   "outputs": [],
   "source": [
    "def plot_predict_right(X_test, predictions, right_predictions, num_rows=5):\n",
    "    pred = pd.DataFrame({'predição modelo': predictions, 'predição correta': right_predictions})\n",
    "    display(pred[:num_rows])"
   ]
  },
  {
   "cell_type": "code",
   "execution_count": 285,
   "metadata": {
    "executionInfo": {
     "elapsed": 6,
     "status": "ok",
     "timestamp": 1648578435255,
     "user": {
      "displayName": "Willian dos Santos Pereira",
      "userId": "14574313425442770033"
     },
     "user_tz": 180
    },
    "id": "OfjImHmjqSmp"
   },
   "outputs": [],
   "source": [
    "def plot_classification_report(y_test, y_pred):\n",
    "    print(metrics.classification_report(y_test, y_pred))"
   ]
  },
  {
   "cell_type": "code",
   "execution_count": null,
   "metadata": {},
   "outputs": [],
   "source": [
    "def plot_confusion_m()"
   ]
  },
  {
   "cell_type": "code",
   "execution_count": 290,
   "metadata": {
    "executionInfo": {
     "elapsed": 6,
     "status": "ok",
     "timestamp": 1648578435255,
     "user": {
      "displayName": "Willian dos Santos Pereira",
      "userId": "14574313425442770033"
     },
     "user_tz": 180
    },
    "id": "JmPPe11QLzdZ"
   },
   "outputs": [],
   "source": [
    "def evaluates_score_model(modelo, vectorizer, X_train, X_test, y_train, y_test):\n",
    "    print('#######################################################################################################################################')\n",
    "    print('##### Avaliando Modelo {} / Vectorizer {} #####'.format(modelo, vectorizer))\n",
    "    train_vectorized, test_vectorized = vectorize_dataframe(vectorizer, X_train, X_test)\n",
    "    model = train_model(modelo, train_vectorized, y_train)\n",
    "    y_pred = predict_model(modelo, test_vectorized)\n",
    "    print('Accuracy do Modelo {} com Vectorizer {} é de {:.3f}'.format(modelo, vectorizer, float(metrics.accuracy_score(y_test, y_pred))))\n",
    "    print('Precision do Modelo {} com Vectorizer {} é de {:.3f}'.format(modelo, vectorizer, float(metrics.precision_score(y_test, y_pred, average='macro'))))\n",
    "    print('Recall do Modelo {} com Vectorizer {} é de {:.3f}'.format(modelo, vectorizer, float(metrics.recall_score(y_test, y_pred, average='macro'))))\n",
    "    print('F1-Score do Modelo {} com Vectorizer {} é de {:.3f}'.format(modelo, vectorizer, float(metrics.f1_score(y_test, y_pred, average='macro'))))\n",
    "    plot_predict_right(X_test, y_pred, y_test)\n",
    "    plot_classification_report(y_test, y_pred)\n",
    "    print('\\n')\n",
    "    return y_pred"
   ]
  },
  {
   "cell_type": "code",
   "execution_count": null,
   "metadata": {},
   "outputs": [],
   "source": [
    "plot_predict_right(X_test, )"
   ]
  },
  {
   "cell_type": "code",
   "execution_count": 128,
   "metadata": {
    "id": "-mQiOtgQ3g0w"
   },
   "outputs": [],
   "source": [
    "# cv = RepeatedStratifiedKFold(n_splits=10, n_repeats=3, random_state=1)\n",
    "\n",
    "# space = dict()\n",
    "# space['solver'] = ['newton-cg', 'lbfgs', 'liblinear']\n",
    "# space['penalty'] = ['none', 'l1', 'l2', 'elasticnet']\n",
    "# space['C'] = loguniform(1e-5, 100)\n",
    "\n",
    "# search = RandomizedSearchCV(LogisticRegression(), space, n_iter=500, scoring='accuracy', n_jobs=-1, cv=cv, random_state=1)\n",
    "# # search = GridSearchCV(..., scoring='accuracy', n_jobs=-1)\n",
    "\n",
    "# train_vectorized, test_vectorized = vectorize_dataframe(get_vectorize_instance('TfidfVectorizer'), X_train, X_test)\n",
    "\n",
    "# # execute search\n",
    "# result = search.fit(train_vectorized, y_train)\n",
    "\n",
    "# # summarize result\n",
    "# print('Best Score: %s' % result.best_score_)\n",
    "# print('Best Hyperparameters: %s' % result.best_params_)"
   ]
  },
  {
   "cell_type": "code",
   "execution_count": 182,
   "metadata": {},
   "outputs": [
    {
     "data": {
      "image/png": "[encoded data removed]",
      "text/plain": [
       "<Figure size 720x720 with 1 Axes>"
      ]
     },
     "metadata": {
      "needs_background": "light"
     },
     "output_type": "display_data"
    }
   ],
   "source": [
    "import matplotlib.pyplot as plt\n",
    "from mlxtend.plotting import plot_confusion_matrix\n",
    "from mlxtend.evaluate import confusion_matrix\n",
    "\n",
    "cm = confusion_matrix(y_target=y_test, y_predicted=y_pred_sgd_count_vect, binary=False)\n",
    "\n",
    "fig, ax = plot_confusion_matrix(conf_mat=cm, show_absolute=False, show_normed=True, figsize= (10, 10))\n",
    "plt.show()"
   ]
  },
  {
   "cell_type": "code",
   "execution_count": 194,
   "metadata": {},
   "outputs": [
    {
     "name": "stdout",
     "output_type": "stream",
     "text": [
      "nome1\n"
     ]
    },
    {
     "data": {
      "image/png": "[encoded data removed]",
      "text/plain": [
       "<Figure size 720x720 with 1 Axes>"
      ]
     },
     "metadata": {
      "needs_background": "light"
     },
     "output_type": "display_data"
    },
    {
     "name": "stdout",
     "output_type": "stream",
     "text": [
      "nome2\n"
     ]
    },
    {
     "data": {
      "image/png": "[encoded data removed]",
      "text/plain": [
       "<Figure size 720x720 with 1 Axes>"
      ]
     },
     "metadata": {
      "needs_background": "light"
     },
     "output_type": "display_data"
    }
   ],
   "source": [
    "import itertools\n",
    "\n",
    "for y_pred, name, lab, grd in zip([y_pred_lr_count_vec, y_pred_sgd_count_vect],\n",
    "                            ['nome1', 'nome2'],\n",
    "                         y_test,\n",
    "                         itertools.product([0, 1],\n",
    "                         repeat=2)):\n",
    "    \n",
    "    cm = confusion_matrix(y_target=y_test, y_predicted=y_pred, binary=False)\n",
    "    print(name)\n",
    "    fig, ax = plot_confusion_matrix(conf_mat=cm, show_absolute=False, show_normed=True, figsize= (10, 10))\n",
    "    plt.show()"
   ]
  },
  {
   "cell_type": "code",
   "execution_count": 197,
   "metadata": {},
   "outputs": [
    {
     "name": "stdout",
     "output_type": "stream",
     "text": [
      "[[1154   57   27   19    8   82]\n",
      " [ 103  176    5    4    1   37]\n",
      " [  37    6  349   15   10   56]\n",
      " [  42    6   25  392    2   73]\n",
      " [  22    0   20    3   71   26]\n",
      " [  85   13   48   37   12  961]]\n",
      "AxesSubplot(0.125,0.125;0.775x0.755)\n",
      "[[1213   37   19   15    5   58]\n",
      " [ 123  161    5    6    0   31]\n",
      " [  52    5  346   12    8   50]\n",
      " [  61    2   23  389    2   63]\n",
      " [  25    1   17    4   71   24]\n",
      " [ 119   12   48   36    7  934]]\n",
      "AxesSubplot(0.125,0.125;0.775x0.755)\n"
     ]
    },
    {
     "data": {
      "image/png": "[encoded data removed]",
      "text/plain": [
       "<Figure size 432x288 with 2 Axes>"
      ]
     },
     "metadata": {
      "needs_background": "light"
     },
     "output_type": "display_data"
    },
    {
     "data": {
      "image/png": "[encoded data removed]",
      "text/plain": [
       "<Figure size 720x720 with 1 Axes>"
      ]
     },
     "metadata": {
      "needs_background": "light"
     },
     "output_type": "display_data"
    },
    {
     "data": {
      "image/png": "[encoded data removed]",
      "text/plain": [
       "<Figure size 720x720 with 1 Axes>"
      ]
     },
     "metadata": {
      "needs_background": "light"
     },
     "output_type": "display_data"
    }
   ],
   "source": [
    "from sklearn.metrics import plot_confusion_matrix\n",
    "\n",
    "fig, axes = plt.subplots(nrows=2, ncols=2, figsize=(15,10))\n",
    "\n",
    "for cls, ax in zip(classifiers, axes.flatten()):\n",
    "\n",
    "for y_pred, name, lab, grd in zip([y_pred_lr_count_vec, y_pred_sgd_count_vect],\n",
    "                            ['nome1', 'nome2'], \n",
    "                         y_test,\n",
    "                         itertools.product([0, 1],\n",
    "                         repeat=2)):\n",
    "    \n",
    "        cm = confusion_matrix(y_target=y_test, y_predicted=y_pred, binary=False)\n",
    "        print(name)\n",
    "        fig, ax = plot_confusion_matrix(conf_mat=cm, show_absolute=False, show_normed=True, figsize= (10, 10))\n",
    "    \n",
    "    plot_confusion_matrix(cls, \n",
    "                          X_test, \n",
    "                          y_test, \n",
    "                          ax=ax, \n",
    "                          cmap='Blues',\n",
    "                         display_labels=data.target_names)\n",
    "    ax.title.set_text(type(cls).__name__)\n",
    "plt.tight_layout()  \n",
    "plt.show()"
   ]
  },
  {
   "cell_type": "code",
   "execution_count": 244,
   "metadata": {},
   "outputs": [],
   "source": [
    "def get_model_instace(model):\n",
    "    return {\n",
    "        'LogisticRegression': LogisticRegression(multi_class='multinomial', solver='lbfgs'),\n",
    "        'MultinomialNB': MultinomialNB(),\n",
    "        'RandomForestClassifier': RandomForestClassifier(n_estimators=100),\n",
    "        'SVC': SVC(kernel='linear'),\n",
    "        'SGDClassifier': SGDClassifier(loss=\"log\", penalty=\"l2\"),\n",
    "        'DecisionTreeClassifier': DecisionTreeClassifier(criterion=\"gini\"),\n",
    "        'KNeighborsClassifier': KNeighborsClassifier(n_neighbors=5),\n",
    "        'GradientBoostingClassifier': GradientBoostingClassifier(n_estimators=150),\n",
    "    }.get(model) "
   ]
  },
  {
   "cell_type": "code",
   "execution_count": 291,
   "metadata": {},
   "outputs": [
    {
     "name": "stdout",
     "output_type": "stream",
     "text": [
      "#######################################################################################################################################\n",
      "##### Avaliando Modelo LogisticRegression(multi_class='multinomial') / Vectorizer CountVectorizer() #####\n",
      "Accuracy do Modelo LogisticRegression(multi_class='multinomial') com Vectorizer CountVectorizer() é de 0.710\n",
      "Precision do Modelo LogisticRegression(multi_class='multinomial') com Vectorizer CountVectorizer() é de 0.710\n",
      "Recall do Modelo LogisticRegression(multi_class='multinomial') com Vectorizer CountVectorizer() é de 0.710\n",
      "F1-Score do Modelo LogisticRegression(multi_class='multinomial') com Vectorizer CountVectorizer() é de 0.708\n"
     ]
    },
    {
     "name": "stderr",
     "output_type": "stream",
     "text": [
      "C:\\Users\\wills\\AppData\\Local\\Programs\\Python\\Python310\\lib\\site-packages\\sklearn\\linear_model\\_logistic.py:814: ConvergenceWarning: lbfgs failed to converge (status=1):\n",
      "STOP: TOTAL NO. of ITERATIONS REACHED LIMIT.\n",
      "\n",
      "Increase the number of iterations (max_iter) or scale the data as shown in:\n",
      "    https://scikit-learn.org/stable/modules/preprocessing.html\n",
      "Please also refer to the documentation for alternative solver options:\n",
      "    https://scikit-learn.org/stable/modules/linear_model.html#logistic-regression\n",
      "  n_iter_i = _check_optimize_result(\n"
     ]
    },
    {
     "data": {
      "text/html": [
       "<div>\n",
       "<style scoped>\n",
       "    .dataframe tbody tr th:only-of-type {\n",
       "        vertical-align: middle;\n",
       "    }\n",
       "\n",
       "    .dataframe tbody tr th {\n",
       "        vertical-align: top;\n",
       "    }\n",
       "\n",
       "    .dataframe thead th {\n",
       "        text-align: right;\n",
       "    }\n",
       "</style>\n",
       "<table border=\"1\" class=\"dataframe\">\n",
       "  <thead>\n",
       "    <tr style=\"text-align: right;\">\n",
       "      <th></th>\n",
       "      <th>predição modelo</th>\n",
       "      <th>predição correta</th>\n",
       "    </tr>\n",
       "  </thead>\n",
       "  <tbody>\n",
       "    <tr>\n",
       "      <th>1172</th>\n",
       "      <td>1</td>\n",
       "      <td>1</td>\n",
       "    </tr>\n",
       "    <tr>\n",
       "      <th>3407</th>\n",
       "      <td>4</td>\n",
       "      <td>4</td>\n",
       "    </tr>\n",
       "    <tr>\n",
       "      <th>1552</th>\n",
       "      <td>5</td>\n",
       "      <td>2</td>\n",
       "    </tr>\n",
       "    <tr>\n",
       "      <th>334</th>\n",
       "      <td>0</td>\n",
       "      <td>0</td>\n",
       "    </tr>\n",
       "    <tr>\n",
       "      <th>3321</th>\n",
       "      <td>1</td>\n",
       "      <td>4</td>\n",
       "    </tr>\n",
       "  </tbody>\n",
       "</table>\n",
       "</div>"
      ],
      "text/plain": [
       "      predição modelo  predição correta\n",
       "1172                1                 1\n",
       "3407                4                 4\n",
       "1552                5                 2\n",
       "334                 0                 0\n",
       "3321                1                 4"
      ]
     },
     "metadata": {},
     "output_type": "display_data"
    },
    {
     "name": "stdout",
     "output_type": "stream",
     "text": [
      "              precision    recall  f1-score   support\n",
      "\n",
      "           0       0.62      0.64      0.63       143\n",
      "           1       0.68      0.73      0.70       142\n",
      "           2       0.77      0.69      0.73       142\n",
      "           3       0.70      0.72      0.71       143\n",
      "           4       0.81      0.89      0.85       142\n",
      "           5       0.69      0.59      0.64       143\n",
      "\n",
      "    accuracy                           0.71       855\n",
      "   macro avg       0.71      0.71      0.71       855\n",
      "weighted avg       0.71      0.71      0.71       855\n",
      "\n",
      "\n",
      "\n",
      "#######################################################################################################################################\n",
      "##### Avaliando Modelo LogisticRegression(multi_class='multinomial') / Vectorizer TfidfVectorizer() #####\n",
      "Accuracy do Modelo LogisticRegression(multi_class='multinomial') com Vectorizer TfidfVectorizer() é de 0.705\n",
      "Precision do Modelo LogisticRegression(multi_class='multinomial') com Vectorizer TfidfVectorizer() é de 0.707\n",
      "Recall do Modelo LogisticRegression(multi_class='multinomial') com Vectorizer TfidfVectorizer() é de 0.705\n",
      "F1-Score do Modelo LogisticRegression(multi_class='multinomial') com Vectorizer TfidfVectorizer() é de 0.704\n"
     ]
    },
    {
     "data": {
      "text/html": [
       "<div>\n",
       "<style scoped>\n",
       "    .dataframe tbody tr th:only-of-type {\n",
       "        vertical-align: middle;\n",
       "    }\n",
       "\n",
       "    .dataframe tbody tr th {\n",
       "        vertical-align: top;\n",
       "    }\n",
       "\n",
       "    .dataframe thead th {\n",
       "        text-align: right;\n",
       "    }\n",
       "</style>\n",
       "<table border=\"1\" class=\"dataframe\">\n",
       "  <thead>\n",
       "    <tr style=\"text-align: right;\">\n",
       "      <th></th>\n",
       "      <th>predição modelo</th>\n",
       "      <th>predição correta</th>\n",
       "    </tr>\n",
       "  </thead>\n",
       "  <tbody>\n",
       "    <tr>\n",
       "      <th>1172</th>\n",
       "      <td>1</td>\n",
       "      <td>1</td>\n",
       "    </tr>\n",
       "    <tr>\n",
       "      <th>3407</th>\n",
       "      <td>4</td>\n",
       "      <td>4</td>\n",
       "    </tr>\n",
       "    <tr>\n",
       "      <th>1552</th>\n",
       "      <td>5</td>\n",
       "      <td>2</td>\n",
       "    </tr>\n",
       "    <tr>\n",
       "      <th>334</th>\n",
       "      <td>0</td>\n",
       "      <td>0</td>\n",
       "    </tr>\n",
       "    <tr>\n",
       "      <th>3321</th>\n",
       "      <td>1</td>\n",
       "      <td>4</td>\n",
       "    </tr>\n",
       "  </tbody>\n",
       "</table>\n",
       "</div>"
      ],
      "text/plain": [
       "      predição modelo  predição correta\n",
       "1172                1                 1\n",
       "3407                4                 4\n",
       "1552                5                 2\n",
       "334                 0                 0\n",
       "3321                1                 4"
      ]
     },
     "metadata": {},
     "output_type": "display_data"
    },
    {
     "name": "stdout",
     "output_type": "stream",
     "text": [
      "              precision    recall  f1-score   support\n",
      "\n",
      "           0       0.61      0.63      0.62       143\n",
      "           1       0.65      0.75      0.70       142\n",
      "           2       0.76      0.68      0.72       142\n",
      "           3       0.73      0.72      0.72       143\n",
      "           4       0.79      0.87      0.83       142\n",
      "           5       0.69      0.57      0.63       143\n",
      "\n",
      "    accuracy                           0.71       855\n",
      "   macro avg       0.71      0.71      0.70       855\n",
      "weighted avg       0.71      0.71      0.70       855\n",
      "\n",
      "\n",
      "\n",
      "#######################################################################################################################################\n",
      "##### Avaliando Modelo MultinomialNB() / Vectorizer CountVectorizer() #####\n",
      "Accuracy do Modelo MultinomialNB() com Vectorizer CountVectorizer() é de 0.642\n",
      "Precision do Modelo MultinomialNB() com Vectorizer CountVectorizer() é de 0.643\n",
      "Recall do Modelo MultinomialNB() com Vectorizer CountVectorizer() é de 0.642\n",
      "F1-Score do Modelo MultinomialNB() com Vectorizer CountVectorizer() é de 0.639\n"
     ]
    },
    {
     "data": {
      "text/html": [
       "<div>\n",
       "<style scoped>\n",
       "    .dataframe tbody tr th:only-of-type {\n",
       "        vertical-align: middle;\n",
       "    }\n",
       "\n",
       "    .dataframe tbody tr th {\n",
       "        vertical-align: top;\n",
       "    }\n",
       "\n",
       "    .dataframe thead th {\n",
       "        text-align: right;\n",
       "    }\n",
       "</style>\n",
       "<table border=\"1\" class=\"dataframe\">\n",
       "  <thead>\n",
       "    <tr style=\"text-align: right;\">\n",
       "      <th></th>\n",
       "      <th>predição modelo</th>\n",
       "      <th>predição correta</th>\n",
       "    </tr>\n",
       "  </thead>\n",
       "  <tbody>\n",
       "    <tr>\n",
       "      <th>1172</th>\n",
       "      <td>1</td>\n",
       "      <td>1</td>\n",
       "    </tr>\n",
       "    <tr>\n",
       "      <th>3407</th>\n",
       "      <td>4</td>\n",
       "      <td>4</td>\n",
       "    </tr>\n",
       "    <tr>\n",
       "      <th>1552</th>\n",
       "      <td>2</td>\n",
       "      <td>2</td>\n",
       "    </tr>\n",
       "    <tr>\n",
       "      <th>334</th>\n",
       "      <td>0</td>\n",
       "      <td>0</td>\n",
       "    </tr>\n",
       "    <tr>\n",
       "      <th>3321</th>\n",
       "      <td>1</td>\n",
       "      <td>4</td>\n",
       "    </tr>\n",
       "  </tbody>\n",
       "</table>\n",
       "</div>"
      ],
      "text/plain": [
       "      predição modelo  predição correta\n",
       "1172                1                 1\n",
       "3407                4                 4\n",
       "1552                2                 2\n",
       "334                 0                 0\n",
       "3321                1                 4"
      ]
     },
     "metadata": {},
     "output_type": "display_data"
    },
    {
     "name": "stdout",
     "output_type": "stream",
     "text": [
      "              precision    recall  f1-score   support\n",
      "\n",
      "           0       0.63      0.53      0.58       143\n",
      "           1       0.56      0.67      0.61       142\n",
      "           2       0.73      0.66      0.69       142\n",
      "           3       0.64      0.67      0.66       143\n",
      "           4       0.69      0.83      0.75       142\n",
      "           5       0.60      0.49      0.54       143\n",
      "\n",
      "    accuracy                           0.64       855\n",
      "   macro avg       0.64      0.64      0.64       855\n",
      "weighted avg       0.64      0.64      0.64       855\n",
      "\n",
      "\n",
      "\n",
      "#######################################################################################################################################\n",
      "##### Avaliando Modelo MultinomialNB() / Vectorizer TfidfVectorizer() #####\n",
      "Accuracy do Modelo MultinomialNB() com Vectorizer TfidfVectorizer() é de 0.673\n",
      "Precision do Modelo MultinomialNB() com Vectorizer TfidfVectorizer() é de 0.675\n",
      "Recall do Modelo MultinomialNB() com Vectorizer TfidfVectorizer() é de 0.673\n",
      "F1-Score do Modelo MultinomialNB() com Vectorizer TfidfVectorizer() é de 0.669\n"
     ]
    },
    {
     "data": {
      "text/html": [
       "<div>\n",
       "<style scoped>\n",
       "    .dataframe tbody tr th:only-of-type {\n",
       "        vertical-align: middle;\n",
       "    }\n",
       "\n",
       "    .dataframe tbody tr th {\n",
       "        vertical-align: top;\n",
       "    }\n",
       "\n",
       "    .dataframe thead th {\n",
       "        text-align: right;\n",
       "    }\n",
       "</style>\n",
       "<table border=\"1\" class=\"dataframe\">\n",
       "  <thead>\n",
       "    <tr style=\"text-align: right;\">\n",
       "      <th></th>\n",
       "      <th>predição modelo</th>\n",
       "      <th>predição correta</th>\n",
       "    </tr>\n",
       "  </thead>\n",
       "  <tbody>\n",
       "    <tr>\n",
       "      <th>1172</th>\n",
       "      <td>1</td>\n",
       "      <td>1</td>\n",
       "    </tr>\n",
       "    <tr>\n",
       "      <th>3407</th>\n",
       "      <td>4</td>\n",
       "      <td>4</td>\n",
       "    </tr>\n",
       "    <tr>\n",
       "      <th>1552</th>\n",
       "      <td>2</td>\n",
       "      <td>2</td>\n",
       "    </tr>\n",
       "    <tr>\n",
       "      <th>334</th>\n",
       "      <td>0</td>\n",
       "      <td>0</td>\n",
       "    </tr>\n",
       "    <tr>\n",
       "      <th>3321</th>\n",
       "      <td>4</td>\n",
       "      <td>4</td>\n",
       "    </tr>\n",
       "  </tbody>\n",
       "</table>\n",
       "</div>"
      ],
      "text/plain": [
       "      predição modelo  predição correta\n",
       "1172                1                 1\n",
       "3407                4                 4\n",
       "1552                2                 2\n",
       "334                 0                 0\n",
       "3321                4                 4"
      ]
     },
     "metadata": {},
     "output_type": "display_data"
    },
    {
     "name": "stdout",
     "output_type": "stream",
     "text": [
      "              precision    recall  f1-score   support\n",
      "\n",
      "           0       0.66      0.59      0.63       143\n",
      "           1       0.59      0.70      0.64       142\n",
      "           2       0.72      0.65      0.69       142\n",
      "           3       0.71      0.70      0.70       143\n",
      "           4       0.70      0.87      0.78       142\n",
      "           5       0.67      0.52      0.58       143\n",
      "\n",
      "    accuracy                           0.67       855\n",
      "   macro avg       0.67      0.67      0.67       855\n",
      "weighted avg       0.67      0.67      0.67       855\n",
      "\n",
      "\n",
      "\n",
      "#######################################################################################################################################\n",
      "##### Avaliando Modelo RandomForestClassifier() / Vectorizer CountVectorizer() #####\n",
      "Accuracy do Modelo RandomForestClassifier() com Vectorizer CountVectorizer() é de 0.710\n",
      "Precision do Modelo RandomForestClassifier() com Vectorizer CountVectorizer() é de 0.709\n",
      "Recall do Modelo RandomForestClassifier() com Vectorizer CountVectorizer() é de 0.710\n",
      "F1-Score do Modelo RandomForestClassifier() com Vectorizer CountVectorizer() é de 0.708\n"
     ]
    },
    {
     "data": {
      "text/html": [
       "<div>\n",
       "<style scoped>\n",
       "    .dataframe tbody tr th:only-of-type {\n",
       "        vertical-align: middle;\n",
       "    }\n",
       "\n",
       "    .dataframe tbody tr th {\n",
       "        vertical-align: top;\n",
       "    }\n",
       "\n",
       "    .dataframe thead th {\n",
       "        text-align: right;\n",
       "    }\n",
       "</style>\n",
       "<table border=\"1\" class=\"dataframe\">\n",
       "  <thead>\n",
       "    <tr style=\"text-align: right;\">\n",
       "      <th></th>\n",
       "      <th>predição modelo</th>\n",
       "      <th>predição correta</th>\n",
       "    </tr>\n",
       "  </thead>\n",
       "  <tbody>\n",
       "    <tr>\n",
       "      <th>1172</th>\n",
       "      <td>1</td>\n",
       "      <td>1</td>\n",
       "    </tr>\n",
       "    <tr>\n",
       "      <th>3407</th>\n",
       "      <td>4</td>\n",
       "      <td>4</td>\n",
       "    </tr>\n",
       "    <tr>\n",
       "      <th>1552</th>\n",
       "      <td>2</td>\n",
       "      <td>2</td>\n",
       "    </tr>\n",
       "    <tr>\n",
       "      <th>334</th>\n",
       "      <td>0</td>\n",
       "      <td>0</td>\n",
       "    </tr>\n",
       "    <tr>\n",
       "      <th>3321</th>\n",
       "      <td>4</td>\n",
       "      <td>4</td>\n",
       "    </tr>\n",
       "  </tbody>\n",
       "</table>\n",
       "</div>"
      ],
      "text/plain": [
       "      predição modelo  predição correta\n",
       "1172                1                 1\n",
       "3407                4                 4\n",
       "1552                2                 2\n",
       "334                 0                 0\n",
       "3321                4                 4"
      ]
     },
     "metadata": {},
     "output_type": "display_data"
    },
    {
     "name": "stdout",
     "output_type": "stream",
     "text": [
      "              precision    recall  f1-score   support\n",
      "\n",
      "           0       0.61      0.57      0.59       143\n",
      "           1       0.69      0.77      0.73       142\n",
      "           2       0.79      0.73      0.75       142\n",
      "           3       0.71      0.71      0.71       143\n",
      "           4       0.82      0.88      0.85       142\n",
      "           5       0.63      0.61      0.62       143\n",
      "\n",
      "    accuracy                           0.71       855\n",
      "   macro avg       0.71      0.71      0.71       855\n",
      "weighted avg       0.71      0.71      0.71       855\n",
      "\n",
      "\n",
      "\n",
      "#######################################################################################################################################\n",
      "##### Avaliando Modelo RandomForestClassifier() / Vectorizer TfidfVectorizer() #####\n",
      "Accuracy do Modelo RandomForestClassifier() com Vectorizer TfidfVectorizer() é de 0.685\n",
      "Precision do Modelo RandomForestClassifier() com Vectorizer TfidfVectorizer() é de 0.683\n",
      "Recall do Modelo RandomForestClassifier() com Vectorizer TfidfVectorizer() é de 0.686\n",
      "F1-Score do Modelo RandomForestClassifier() com Vectorizer TfidfVectorizer() é de 0.683\n"
     ]
    },
    {
     "data": {
      "text/html": [
       "<div>\n",
       "<style scoped>\n",
       "    .dataframe tbody tr th:only-of-type {\n",
       "        vertical-align: middle;\n",
       "    }\n",
       "\n",
       "    .dataframe tbody tr th {\n",
       "        vertical-align: top;\n",
       "    }\n",
       "\n",
       "    .dataframe thead th {\n",
       "        text-align: right;\n",
       "    }\n",
       "</style>\n",
       "<table border=\"1\" class=\"dataframe\">\n",
       "  <thead>\n",
       "    <tr style=\"text-align: right;\">\n",
       "      <th></th>\n",
       "      <th>predição modelo</th>\n",
       "      <th>predição correta</th>\n",
       "    </tr>\n",
       "  </thead>\n",
       "  <tbody>\n",
       "    <tr>\n",
       "      <th>1172</th>\n",
       "      <td>1</td>\n",
       "      <td>1</td>\n",
       "    </tr>\n",
       "    <tr>\n",
       "      <th>3407</th>\n",
       "      <td>4</td>\n",
       "      <td>4</td>\n",
       "    </tr>\n",
       "    <tr>\n",
       "      <th>1552</th>\n",
       "      <td>5</td>\n",
       "      <td>2</td>\n",
       "    </tr>\n",
       "    <tr>\n",
       "      <th>334</th>\n",
       "      <td>0</td>\n",
       "      <td>0</td>\n",
       "    </tr>\n",
       "    <tr>\n",
       "      <th>3321</th>\n",
       "      <td>4</td>\n",
       "      <td>4</td>\n",
       "    </tr>\n",
       "  </tbody>\n",
       "</table>\n",
       "</div>"
      ],
      "text/plain": [
       "      predição modelo  predição correta\n",
       "1172                1                 1\n",
       "3407                4                 4\n",
       "1552                5                 2\n",
       "334                 0                 0\n",
       "3321                4                 4"
      ]
     },
     "metadata": {},
     "output_type": "display_data"
    },
    {
     "name": "stdout",
     "output_type": "stream",
     "text": [
      "              precision    recall  f1-score   support\n",
      "\n",
      "           0       0.52      0.50      0.51       143\n",
      "           1       0.69      0.77      0.72       142\n",
      "           2       0.80      0.70      0.75       142\n",
      "           3       0.70      0.69      0.69       143\n",
      "           4       0.82      0.91      0.86       142\n",
      "           5       0.58      0.55      0.56       143\n",
      "\n",
      "    accuracy                           0.69       855\n",
      "   macro avg       0.68      0.69      0.68       855\n",
      "weighted avg       0.68      0.69      0.68       855\n",
      "\n",
      "\n",
      "\n",
      "#######################################################################################################################################\n",
      "##### Avaliando Modelo SVC(kernel='linear') / Vectorizer CountVectorizer() #####\n",
      "Accuracy do Modelo SVC(kernel='linear') com Vectorizer CountVectorizer() é de 0.695\n",
      "Precision do Modelo SVC(kernel='linear') com Vectorizer CountVectorizer() é de 0.698\n",
      "Recall do Modelo SVC(kernel='linear') com Vectorizer CountVectorizer() é de 0.695\n",
      "F1-Score do Modelo SVC(kernel='linear') com Vectorizer CountVectorizer() é de 0.693\n"
     ]
    },
    {
     "data": {
      "text/html": [
       "<div>\n",
       "<style scoped>\n",
       "    .dataframe tbody tr th:only-of-type {\n",
       "        vertical-align: middle;\n",
       "    }\n",
       "\n",
       "    .dataframe tbody tr th {\n",
       "        vertical-align: top;\n",
       "    }\n",
       "\n",
       "    .dataframe thead th {\n",
       "        text-align: right;\n",
       "    }\n",
       "</style>\n",
       "<table border=\"1\" class=\"dataframe\">\n",
       "  <thead>\n",
       "    <tr style=\"text-align: right;\">\n",
       "      <th></th>\n",
       "      <th>predição modelo</th>\n",
       "      <th>predição correta</th>\n",
       "    </tr>\n",
       "  </thead>\n",
       "  <tbody>\n",
       "    <tr>\n",
       "      <th>1172</th>\n",
       "      <td>1</td>\n",
       "      <td>1</td>\n",
       "    </tr>\n",
       "    <tr>\n",
       "      <th>3407</th>\n",
       "      <td>4</td>\n",
       "      <td>4</td>\n",
       "    </tr>\n",
       "    <tr>\n",
       "      <th>1552</th>\n",
       "      <td>5</td>\n",
       "      <td>2</td>\n",
       "    </tr>\n",
       "    <tr>\n",
       "      <th>334</th>\n",
       "      <td>0</td>\n",
       "      <td>0</td>\n",
       "    </tr>\n",
       "    <tr>\n",
       "      <th>3321</th>\n",
       "      <td>0</td>\n",
       "      <td>4</td>\n",
       "    </tr>\n",
       "  </tbody>\n",
       "</table>\n",
       "</div>"
      ],
      "text/plain": [
       "      predição modelo  predição correta\n",
       "1172                1                 1\n",
       "3407                4                 4\n",
       "1552                5                 2\n",
       "334                 0                 0\n",
       "3321                0                 4"
      ]
     },
     "metadata": {},
     "output_type": "display_data"
    },
    {
     "name": "stdout",
     "output_type": "stream",
     "text": [
      "              precision    recall  f1-score   support\n",
      "\n",
      "           0       0.58      0.64      0.61       143\n",
      "           1       0.65      0.75      0.70       142\n",
      "           2       0.76      0.67      0.71       142\n",
      "           3       0.68      0.69      0.69       143\n",
      "           4       0.81      0.88      0.84       142\n",
      "           5       0.71      0.55      0.62       143\n",
      "\n",
      "    accuracy                           0.69       855\n",
      "   macro avg       0.70      0.69      0.69       855\n",
      "weighted avg       0.70      0.69      0.69       855\n",
      "\n",
      "\n",
      "\n",
      "#######################################################################################################################################\n",
      "##### Avaliando Modelo SVC(kernel='linear') / Vectorizer TfidfVectorizer() #####\n",
      "Accuracy do Modelo SVC(kernel='linear') com Vectorizer TfidfVectorizer() é de 0.708\n",
      "Precision do Modelo SVC(kernel='linear') com Vectorizer TfidfVectorizer() é de 0.713\n",
      "Recall do Modelo SVC(kernel='linear') com Vectorizer TfidfVectorizer() é de 0.708\n",
      "F1-Score do Modelo SVC(kernel='linear') com Vectorizer TfidfVectorizer() é de 0.708\n"
     ]
    },
    {
     "data": {
      "text/html": [
       "<div>\n",
       "<style scoped>\n",
       "    .dataframe tbody tr th:only-of-type {\n",
       "        vertical-align: middle;\n",
       "    }\n",
       "\n",
       "    .dataframe tbody tr th {\n",
       "        vertical-align: top;\n",
       "    }\n",
       "\n",
       "    .dataframe thead th {\n",
       "        text-align: right;\n",
       "    }\n",
       "</style>\n",
       "<table border=\"1\" class=\"dataframe\">\n",
       "  <thead>\n",
       "    <tr style=\"text-align: right;\">\n",
       "      <th></th>\n",
       "      <th>predição modelo</th>\n",
       "      <th>predição correta</th>\n",
       "    </tr>\n",
       "  </thead>\n",
       "  <tbody>\n",
       "    <tr>\n",
       "      <th>1172</th>\n",
       "      <td>1</td>\n",
       "      <td>1</td>\n",
       "    </tr>\n",
       "    <tr>\n",
       "      <th>3407</th>\n",
       "      <td>4</td>\n",
       "      <td>4</td>\n",
       "    </tr>\n",
       "    <tr>\n",
       "      <th>1552</th>\n",
       "      <td>2</td>\n",
       "      <td>2</td>\n",
       "    </tr>\n",
       "    <tr>\n",
       "      <th>334</th>\n",
       "      <td>5</td>\n",
       "      <td>0</td>\n",
       "    </tr>\n",
       "    <tr>\n",
       "      <th>3321</th>\n",
       "      <td>1</td>\n",
       "      <td>4</td>\n",
       "    </tr>\n",
       "  </tbody>\n",
       "</table>\n",
       "</div>"
      ],
      "text/plain": [
       "      predição modelo  predição correta\n",
       "1172                1                 1\n",
       "3407                4                 4\n",
       "1552                2                 2\n",
       "334                 5                 0\n",
       "3321                1                 4"
      ]
     },
     "metadata": {},
     "output_type": "display_data"
    },
    {
     "name": "stdout",
     "output_type": "stream",
     "text": [
      "              precision    recall  f1-score   support\n",
      "\n",
      "           0       0.57      0.67      0.62       143\n",
      "           1       0.66      0.71      0.68       142\n",
      "           2       0.80      0.68      0.73       142\n",
      "           3       0.72      0.69      0.70       143\n",
      "           4       0.83      0.88      0.86       142\n",
      "           5       0.70      0.61      0.65       143\n",
      "\n",
      "    accuracy                           0.71       855\n",
      "   macro avg       0.71      0.71      0.71       855\n",
      "weighted avg       0.71      0.71      0.71       855\n",
      "\n",
      "\n",
      "\n",
      "#######################################################################################################################################\n",
      "##### Avaliando Modelo SGDClassifier(loss='log') / Vectorizer CountVectorizer() #####\n",
      "Accuracy do Modelo SGDClassifier(loss='log') com Vectorizer CountVectorizer() é de 0.724\n",
      "Precision do Modelo SGDClassifier(loss='log') com Vectorizer CountVectorizer() é de 0.726\n",
      "Recall do Modelo SGDClassifier(loss='log') com Vectorizer CountVectorizer() é de 0.724\n",
      "F1-Score do Modelo SGDClassifier(loss='log') com Vectorizer CountVectorizer() é de 0.722\n"
     ]
    },
    {
     "data": {
      "text/html": [
       "<div>\n",
       "<style scoped>\n",
       "    .dataframe tbody tr th:only-of-type {\n",
       "        vertical-align: middle;\n",
       "    }\n",
       "\n",
       "    .dataframe tbody tr th {\n",
       "        vertical-align: top;\n",
       "    }\n",
       "\n",
       "    .dataframe thead th {\n",
       "        text-align: right;\n",
       "    }\n",
       "</style>\n",
       "<table border=\"1\" class=\"dataframe\">\n",
       "  <thead>\n",
       "    <tr style=\"text-align: right;\">\n",
       "      <th></th>\n",
       "      <th>predição modelo</th>\n",
       "      <th>predição correta</th>\n",
       "    </tr>\n",
       "  </thead>\n",
       "  <tbody>\n",
       "    <tr>\n",
       "      <th>1172</th>\n",
       "      <td>1</td>\n",
       "      <td>1</td>\n",
       "    </tr>\n",
       "    <tr>\n",
       "      <th>3407</th>\n",
       "      <td>4</td>\n",
       "      <td>4</td>\n",
       "    </tr>\n",
       "    <tr>\n",
       "      <th>1552</th>\n",
       "      <td>2</td>\n",
       "      <td>2</td>\n",
       "    </tr>\n",
       "    <tr>\n",
       "      <th>334</th>\n",
       "      <td>0</td>\n",
       "      <td>0</td>\n",
       "    </tr>\n",
       "    <tr>\n",
       "      <th>3321</th>\n",
       "      <td>1</td>\n",
       "      <td>4</td>\n",
       "    </tr>\n",
       "  </tbody>\n",
       "</table>\n",
       "</div>"
      ],
      "text/plain": [
       "      predição modelo  predição correta\n",
       "1172                1                 1\n",
       "3407                4                 4\n",
       "1552                2                 2\n",
       "334                 0                 0\n",
       "3321                1                 4"
      ]
     },
     "metadata": {},
     "output_type": "display_data"
    },
    {
     "name": "stdout",
     "output_type": "stream",
     "text": [
      "              precision    recall  f1-score   support\n",
      "\n",
      "           0       0.70      0.58      0.64       143\n",
      "           1       0.64      0.78      0.70       142\n",
      "           2       0.77      0.70      0.74       142\n",
      "           3       0.73      0.73      0.73       143\n",
      "           4       0.79      0.89      0.83       142\n",
      "           5       0.72      0.66      0.69       143\n",
      "\n",
      "    accuracy                           0.72       855\n",
      "   macro avg       0.73      0.72      0.72       855\n",
      "weighted avg       0.73      0.72      0.72       855\n",
      "\n",
      "\n",
      "\n",
      "#######################################################################################################################################\n",
      "##### Avaliando Modelo SGDClassifier(loss='log') / Vectorizer TfidfVectorizer() #####\n",
      "Accuracy do Modelo SGDClassifier(loss='log') com Vectorizer TfidfVectorizer() é de 0.730\n",
      "Precision do Modelo SGDClassifier(loss='log') com Vectorizer TfidfVectorizer() é de 0.731\n",
      "Recall do Modelo SGDClassifier(loss='log') com Vectorizer TfidfVectorizer() é de 0.730\n",
      "F1-Score do Modelo SGDClassifier(loss='log') com Vectorizer TfidfVectorizer() é de 0.729\n"
     ]
    },
    {
     "data": {
      "text/html": [
       "<div>\n",
       "<style scoped>\n",
       "    .dataframe tbody tr th:only-of-type {\n",
       "        vertical-align: middle;\n",
       "    }\n",
       "\n",
       "    .dataframe tbody tr th {\n",
       "        vertical-align: top;\n",
       "    }\n",
       "\n",
       "    .dataframe thead th {\n",
       "        text-align: right;\n",
       "    }\n",
       "</style>\n",
       "<table border=\"1\" class=\"dataframe\">\n",
       "  <thead>\n",
       "    <tr style=\"text-align: right;\">\n",
       "      <th></th>\n",
       "      <th>predição modelo</th>\n",
       "      <th>predição correta</th>\n",
       "    </tr>\n",
       "  </thead>\n",
       "  <tbody>\n",
       "    <tr>\n",
       "      <th>1172</th>\n",
       "      <td>1</td>\n",
       "      <td>1</td>\n",
       "    </tr>\n",
       "    <tr>\n",
       "      <th>3407</th>\n",
       "      <td>4</td>\n",
       "      <td>4</td>\n",
       "    </tr>\n",
       "    <tr>\n",
       "      <th>1552</th>\n",
       "      <td>5</td>\n",
       "      <td>2</td>\n",
       "    </tr>\n",
       "    <tr>\n",
       "      <th>334</th>\n",
       "      <td>0</td>\n",
       "      <td>0</td>\n",
       "    </tr>\n",
       "    <tr>\n",
       "      <th>3321</th>\n",
       "      <td>1</td>\n",
       "      <td>4</td>\n",
       "    </tr>\n",
       "  </tbody>\n",
       "</table>\n",
       "</div>"
      ],
      "text/plain": [
       "      predição modelo  predição correta\n",
       "1172                1                 1\n",
       "3407                4                 4\n",
       "1552                5                 2\n",
       "334                 0                 0\n",
       "3321                1                 4"
      ]
     },
     "metadata": {},
     "output_type": "display_data"
    },
    {
     "name": "stdout",
     "output_type": "stream",
     "text": [
      "              precision    recall  f1-score   support\n",
      "\n",
      "           0       0.65      0.64      0.65       143\n",
      "           1       0.67      0.76      0.71       142\n",
      "           2       0.80      0.72      0.76       142\n",
      "           3       0.74      0.75      0.74       143\n",
      "           4       0.80      0.89      0.84       142\n",
      "           5       0.73      0.62      0.67       143\n",
      "\n",
      "    accuracy                           0.73       855\n",
      "   macro avg       0.73      0.73      0.73       855\n",
      "weighted avg       0.73      0.73      0.73       855\n",
      "\n",
      "\n",
      "\n",
      "#######################################################################################################################################\n",
      "##### Avaliando Modelo DecisionTreeClassifier() / Vectorizer CountVectorizer() #####\n",
      "Accuracy do Modelo DecisionTreeClassifier() com Vectorizer CountVectorizer() é de 0.635\n",
      "Precision do Modelo DecisionTreeClassifier() com Vectorizer CountVectorizer() é de 0.637\n",
      "Recall do Modelo DecisionTreeClassifier() com Vectorizer CountVectorizer() é de 0.635\n",
      "F1-Score do Modelo DecisionTreeClassifier() com Vectorizer CountVectorizer() é de 0.636\n"
     ]
    },
    {
     "data": {
      "text/html": [
       "<div>\n",
       "<style scoped>\n",
       "    .dataframe tbody tr th:only-of-type {\n",
       "        vertical-align: middle;\n",
       "    }\n",
       "\n",
       "    .dataframe tbody tr th {\n",
       "        vertical-align: top;\n",
       "    }\n",
       "\n",
       "    .dataframe thead th {\n",
       "        text-align: right;\n",
       "    }\n",
       "</style>\n",
       "<table border=\"1\" class=\"dataframe\">\n",
       "  <thead>\n",
       "    <tr style=\"text-align: right;\">\n",
       "      <th></th>\n",
       "      <th>predição modelo</th>\n",
       "      <th>predição correta</th>\n",
       "    </tr>\n",
       "  </thead>\n",
       "  <tbody>\n",
       "    <tr>\n",
       "      <th>1172</th>\n",
       "      <td>1</td>\n",
       "      <td>1</td>\n",
       "    </tr>\n",
       "    <tr>\n",
       "      <th>3407</th>\n",
       "      <td>4</td>\n",
       "      <td>4</td>\n",
       "    </tr>\n",
       "    <tr>\n",
       "      <th>1552</th>\n",
       "      <td>0</td>\n",
       "      <td>2</td>\n",
       "    </tr>\n",
       "    <tr>\n",
       "      <th>334</th>\n",
       "      <td>0</td>\n",
       "      <td>0</td>\n",
       "    </tr>\n",
       "    <tr>\n",
       "      <th>3321</th>\n",
       "      <td>4</td>\n",
       "      <td>4</td>\n",
       "    </tr>\n",
       "  </tbody>\n",
       "</table>\n",
       "</div>"
      ],
      "text/plain": [
       "      predição modelo  predição correta\n",
       "1172                1                 1\n",
       "3407                4                 4\n",
       "1552                0                 2\n",
       "334                 0                 0\n",
       "3321                4                 4"
      ]
     },
     "metadata": {},
     "output_type": "display_data"
    },
    {
     "name": "stdout",
     "output_type": "stream",
     "text": [
      "              precision    recall  f1-score   support\n",
      "\n",
      "           0       0.45      0.43      0.44       143\n",
      "           1       0.62      0.70      0.66       142\n",
      "           2       0.74      0.68      0.71       142\n",
      "           3       0.65      0.67      0.66       143\n",
      "           4       0.86      0.83      0.85       142\n",
      "           5       0.50      0.51      0.51       143\n",
      "\n",
      "    accuracy                           0.64       855\n",
      "   macro avg       0.64      0.64      0.64       855\n",
      "weighted avg       0.64      0.64      0.64       855\n",
      "\n",
      "\n",
      "\n",
      "#######################################################################################################################################\n",
      "##### Avaliando Modelo DecisionTreeClassifier() / Vectorizer TfidfVectorizer() #####\n",
      "Accuracy do Modelo DecisionTreeClassifier() com Vectorizer TfidfVectorizer() é de 0.607\n",
      "Precision do Modelo DecisionTreeClassifier() com Vectorizer TfidfVectorizer() é de 0.612\n",
      "Recall do Modelo DecisionTreeClassifier() com Vectorizer TfidfVectorizer() é de 0.607\n",
      "F1-Score do Modelo DecisionTreeClassifier() com Vectorizer TfidfVectorizer() é de 0.609\n"
     ]
    },
    {
     "data": {
      "text/html": [
       "<div>\n",
       "<style scoped>\n",
       "    .dataframe tbody tr th:only-of-type {\n",
       "        vertical-align: middle;\n",
       "    }\n",
       "\n",
       "    .dataframe tbody tr th {\n",
       "        vertical-align: top;\n",
       "    }\n",
       "\n",
       "    .dataframe thead th {\n",
       "        text-align: right;\n",
       "    }\n",
       "</style>\n",
       "<table border=\"1\" class=\"dataframe\">\n",
       "  <thead>\n",
       "    <tr style=\"text-align: right;\">\n",
       "      <th></th>\n",
       "      <th>predição modelo</th>\n",
       "      <th>predição correta</th>\n",
       "    </tr>\n",
       "  </thead>\n",
       "  <tbody>\n",
       "    <tr>\n",
       "      <th>1172</th>\n",
       "      <td>1</td>\n",
       "      <td>1</td>\n",
       "    </tr>\n",
       "    <tr>\n",
       "      <th>3407</th>\n",
       "      <td>4</td>\n",
       "      <td>4</td>\n",
       "    </tr>\n",
       "    <tr>\n",
       "      <th>1552</th>\n",
       "      <td>5</td>\n",
       "      <td>2</td>\n",
       "    </tr>\n",
       "    <tr>\n",
       "      <th>334</th>\n",
       "      <td>5</td>\n",
       "      <td>0</td>\n",
       "    </tr>\n",
       "    <tr>\n",
       "      <th>3321</th>\n",
       "      <td>4</td>\n",
       "      <td>4</td>\n",
       "    </tr>\n",
       "  </tbody>\n",
       "</table>\n",
       "</div>"
      ],
      "text/plain": [
       "      predição modelo  predição correta\n",
       "1172                1                 1\n",
       "3407                4                 4\n",
       "1552                5                 2\n",
       "334                 5                 0\n",
       "3321                4                 4"
      ]
     },
     "metadata": {},
     "output_type": "display_data"
    },
    {
     "name": "stdout",
     "output_type": "stream",
     "text": [
      "              precision    recall  f1-score   support\n",
      "\n",
      "           0       0.38      0.42      0.40       143\n",
      "           1       0.58      0.64      0.61       142\n",
      "           2       0.71      0.68      0.70       142\n",
      "           3       0.66      0.62      0.64       143\n",
      "           4       0.86      0.84      0.85       142\n",
      "           5       0.49      0.45      0.47       143\n",
      "\n",
      "    accuracy                           0.61       855\n",
      "   macro avg       0.61      0.61      0.61       855\n",
      "weighted avg       0.61      0.61      0.61       855\n",
      "\n",
      "\n",
      "\n",
      "#######################################################################################################################################\n",
      "##### Avaliando Modelo KNeighborsClassifier() / Vectorizer CountVectorizer() #####\n",
      "Accuracy do Modelo KNeighborsClassifier() com Vectorizer CountVectorizer() é de 0.320\n",
      "Precision do Modelo KNeighborsClassifier() com Vectorizer CountVectorizer() é de 0.333\n",
      "Recall do Modelo KNeighborsClassifier() com Vectorizer CountVectorizer() é de 0.321\n",
      "F1-Score do Modelo KNeighborsClassifier() com Vectorizer CountVectorizer() é de 0.321\n"
     ]
    },
    {
     "data": {
      "text/html": [
       "<div>\n",
       "<style scoped>\n",
       "    .dataframe tbody tr th:only-of-type {\n",
       "        vertical-align: middle;\n",
       "    }\n",
       "\n",
       "    .dataframe tbody tr th {\n",
       "        vertical-align: top;\n",
       "    }\n",
       "\n",
       "    .dataframe thead th {\n",
       "        text-align: right;\n",
       "    }\n",
       "</style>\n",
       "<table border=\"1\" class=\"dataframe\">\n",
       "  <thead>\n",
       "    <tr style=\"text-align: right;\">\n",
       "      <th></th>\n",
       "      <th>predição modelo</th>\n",
       "      <th>predição correta</th>\n",
       "    </tr>\n",
       "  </thead>\n",
       "  <tbody>\n",
       "    <tr>\n",
       "      <th>1172</th>\n",
       "      <td>2</td>\n",
       "      <td>1</td>\n",
       "    </tr>\n",
       "    <tr>\n",
       "      <th>3407</th>\n",
       "      <td>0</td>\n",
       "      <td>4</td>\n",
       "    </tr>\n",
       "    <tr>\n",
       "      <th>1552</th>\n",
       "      <td>0</td>\n",
       "      <td>2</td>\n",
       "    </tr>\n",
       "    <tr>\n",
       "      <th>334</th>\n",
       "      <td>4</td>\n",
       "      <td>0</td>\n",
       "    </tr>\n",
       "    <tr>\n",
       "      <th>3321</th>\n",
       "      <td>3</td>\n",
       "      <td>4</td>\n",
       "    </tr>\n",
       "  </tbody>\n",
       "</table>\n",
       "</div>"
      ],
      "text/plain": [
       "      predição modelo  predição correta\n",
       "1172                2                 1\n",
       "3407                0                 4\n",
       "1552                0                 2\n",
       "334                 4                 0\n",
       "3321                3                 4"
      ]
     },
     "metadata": {},
     "output_type": "display_data"
    },
    {
     "name": "stdout",
     "output_type": "stream",
     "text": [
      "              precision    recall  f1-score   support\n",
      "\n",
      "           0       0.25      0.40      0.31       143\n",
      "           1       0.42      0.30      0.35       142\n",
      "           2       0.38      0.39      0.39       142\n",
      "           3       0.26      0.28      0.27       143\n",
      "           4       0.40      0.35      0.37       142\n",
      "           5       0.28      0.21      0.24       143\n",
      "\n",
      "    accuracy                           0.32       855\n",
      "   macro avg       0.33      0.32      0.32       855\n",
      "weighted avg       0.33      0.32      0.32       855\n",
      "\n",
      "\n",
      "\n",
      "#######################################################################################################################################\n",
      "##### Avaliando Modelo KNeighborsClassifier() / Vectorizer TfidfVectorizer() #####\n",
      "Accuracy do Modelo KNeighborsClassifier() com Vectorizer TfidfVectorizer() é de 0.570\n",
      "Precision do Modelo KNeighborsClassifier() com Vectorizer TfidfVectorizer() é de 0.580\n",
      "Recall do Modelo KNeighborsClassifier() com Vectorizer TfidfVectorizer() é de 0.570\n",
      "F1-Score do Modelo KNeighborsClassifier() com Vectorizer TfidfVectorizer() é de 0.569\n"
     ]
    },
    {
     "data": {
      "text/html": [
       "<div>\n",
       "<style scoped>\n",
       "    .dataframe tbody tr th:only-of-type {\n",
       "        vertical-align: middle;\n",
       "    }\n",
       "\n",
       "    .dataframe tbody tr th {\n",
       "        vertical-align: top;\n",
       "    }\n",
       "\n",
       "    .dataframe thead th {\n",
       "        text-align: right;\n",
       "    }\n",
       "</style>\n",
       "<table border=\"1\" class=\"dataframe\">\n",
       "  <thead>\n",
       "    <tr style=\"text-align: right;\">\n",
       "      <th></th>\n",
       "      <th>predição modelo</th>\n",
       "      <th>predição correta</th>\n",
       "    </tr>\n",
       "  </thead>\n",
       "  <tbody>\n",
       "    <tr>\n",
       "      <th>1172</th>\n",
       "      <td>1</td>\n",
       "      <td>1</td>\n",
       "    </tr>\n",
       "    <tr>\n",
       "      <th>3407</th>\n",
       "      <td>4</td>\n",
       "      <td>4</td>\n",
       "    </tr>\n",
       "    <tr>\n",
       "      <th>1552</th>\n",
       "      <td>2</td>\n",
       "      <td>2</td>\n",
       "    </tr>\n",
       "    <tr>\n",
       "      <th>334</th>\n",
       "      <td>0</td>\n",
       "      <td>0</td>\n",
       "    </tr>\n",
       "    <tr>\n",
       "      <th>3321</th>\n",
       "      <td>4</td>\n",
       "      <td>4</td>\n",
       "    </tr>\n",
       "  </tbody>\n",
       "</table>\n",
       "</div>"
      ],
      "text/plain": [
       "      predição modelo  predição correta\n",
       "1172                1                 1\n",
       "3407                4                 4\n",
       "1552                2                 2\n",
       "334                 0                 0\n",
       "3321                4                 4"
      ]
     },
     "metadata": {},
     "output_type": "display_data"
    },
    {
     "name": "stdout",
     "output_type": "stream",
     "text": [
      "              precision    recall  f1-score   support\n",
      "\n",
      "           0       0.47      0.62      0.53       143\n",
      "           1       0.57      0.58      0.58       142\n",
      "           2       0.58      0.65      0.61       142\n",
      "           3       0.60      0.56      0.58       143\n",
      "           4       0.61      0.58      0.60       142\n",
      "           5       0.66      0.43      0.52       143\n",
      "\n",
      "    accuracy                           0.57       855\n",
      "   macro avg       0.58      0.57      0.57       855\n",
      "weighted avg       0.58      0.57      0.57       855\n",
      "\n",
      "\n",
      "\n",
      "#######################################################################################################################################\n",
      "##### Avaliando Modelo GradientBoostingClassifier(n_estimators=150) / Vectorizer CountVectorizer() #####\n",
      "Accuracy do Modelo GradientBoostingClassifier(n_estimators=150) com Vectorizer CountVectorizer() é de 0.766\n",
      "Precision do Modelo GradientBoostingClassifier(n_estimators=150) com Vectorizer CountVectorizer() é de 0.773\n",
      "Recall do Modelo GradientBoostingClassifier(n_estimators=150) com Vectorizer CountVectorizer() é de 0.766\n",
      "F1-Score do Modelo GradientBoostingClassifier(n_estimators=150) com Vectorizer CountVectorizer() é de 0.767\n"
     ]
    },
    {
     "data": {
      "text/html": [
       "<div>\n",
       "<style scoped>\n",
       "    .dataframe tbody tr th:only-of-type {\n",
       "        vertical-align: middle;\n",
       "    }\n",
       "\n",
       "    .dataframe tbody tr th {\n",
       "        vertical-align: top;\n",
       "    }\n",
       "\n",
       "    .dataframe thead th {\n",
       "        text-align: right;\n",
       "    }\n",
       "</style>\n",
       "<table border=\"1\" class=\"dataframe\">\n",
       "  <thead>\n",
       "    <tr style=\"text-align: right;\">\n",
       "      <th></th>\n",
       "      <th>predição modelo</th>\n",
       "      <th>predição correta</th>\n",
       "    </tr>\n",
       "  </thead>\n",
       "  <tbody>\n",
       "    <tr>\n",
       "      <th>1172</th>\n",
       "      <td>1</td>\n",
       "      <td>1</td>\n",
       "    </tr>\n",
       "    <tr>\n",
       "      <th>3407</th>\n",
       "      <td>4</td>\n",
       "      <td>4</td>\n",
       "    </tr>\n",
       "    <tr>\n",
       "      <th>1552</th>\n",
       "      <td>2</td>\n",
       "      <td>2</td>\n",
       "    </tr>\n",
       "    <tr>\n",
       "      <th>334</th>\n",
       "      <td>0</td>\n",
       "      <td>0</td>\n",
       "    </tr>\n",
       "    <tr>\n",
       "      <th>3321</th>\n",
       "      <td>1</td>\n",
       "      <td>4</td>\n",
       "    </tr>\n",
       "  </tbody>\n",
       "</table>\n",
       "</div>"
      ],
      "text/plain": [
       "      predição modelo  predição correta\n",
       "1172                1                 1\n",
       "3407                4                 4\n",
       "1552                2                 2\n",
       "334                 0                 0\n",
       "3321                1                 4"
      ]
     },
     "metadata": {},
     "output_type": "display_data"
    },
    {
     "name": "stdout",
     "output_type": "stream",
     "text": [
      "              precision    recall  f1-score   support\n",
      "\n",
      "           0       0.69      0.62      0.65       143\n",
      "           1       0.75      0.77      0.76       142\n",
      "           2       0.89      0.77      0.82       142\n",
      "           3       0.85      0.76      0.80       143\n",
      "           4       0.83      0.91      0.87       142\n",
      "           5       0.63      0.78      0.70       143\n",
      "\n",
      "    accuracy                           0.77       855\n",
      "   macro avg       0.77      0.77      0.77       855\n",
      "weighted avg       0.77      0.77      0.77       855\n",
      "\n",
      "\n",
      "\n",
      "#######################################################################################################################################\n",
      "##### Avaliando Modelo GradientBoostingClassifier(n_estimators=150) / Vectorizer TfidfVectorizer() #####\n",
      "Accuracy do Modelo GradientBoostingClassifier(n_estimators=150) com Vectorizer TfidfVectorizer() é de 0.729\n",
      "Precision do Modelo GradientBoostingClassifier(n_estimators=150) com Vectorizer TfidfVectorizer() é de 0.742\n",
      "Recall do Modelo GradientBoostingClassifier(n_estimators=150) com Vectorizer TfidfVectorizer() é de 0.729\n",
      "F1-Score do Modelo GradientBoostingClassifier(n_estimators=150) com Vectorizer TfidfVectorizer() é de 0.731\n"
     ]
    },
    {
     "data": {
      "text/html": [
       "<div>\n",
       "<style scoped>\n",
       "    .dataframe tbody tr th:only-of-type {\n",
       "        vertical-align: middle;\n",
       "    }\n",
       "\n",
       "    .dataframe tbody tr th {\n",
       "        vertical-align: top;\n",
       "    }\n",
       "\n",
       "    .dataframe thead th {\n",
       "        text-align: right;\n",
       "    }\n",
       "</style>\n",
       "<table border=\"1\" class=\"dataframe\">\n",
       "  <thead>\n",
       "    <tr style=\"text-align: right;\">\n",
       "      <th></th>\n",
       "      <th>predição modelo</th>\n",
       "      <th>predição correta</th>\n",
       "    </tr>\n",
       "  </thead>\n",
       "  <tbody>\n",
       "    <tr>\n",
       "      <th>1172</th>\n",
       "      <td>1</td>\n",
       "      <td>1</td>\n",
       "    </tr>\n",
       "    <tr>\n",
       "      <th>3407</th>\n",
       "      <td>4</td>\n",
       "      <td>4</td>\n",
       "    </tr>\n",
       "    <tr>\n",
       "      <th>1552</th>\n",
       "      <td>2</td>\n",
       "      <td>2</td>\n",
       "    </tr>\n",
       "    <tr>\n",
       "      <th>334</th>\n",
       "      <td>0</td>\n",
       "      <td>0</td>\n",
       "    </tr>\n",
       "    <tr>\n",
       "      <th>3321</th>\n",
       "      <td>1</td>\n",
       "      <td>4</td>\n",
       "    </tr>\n",
       "  </tbody>\n",
       "</table>\n",
       "</div>"
      ],
      "text/plain": [
       "      predição modelo  predição correta\n",
       "1172                1                 1\n",
       "3407                4                 4\n",
       "1552                2                 2\n",
       "334                 0                 0\n",
       "3321                1                 4"
      ]
     },
     "metadata": {},
     "output_type": "display_data"
    },
    {
     "name": "stdout",
     "output_type": "stream",
     "text": [
      "              precision    recall  f1-score   support\n",
      "\n",
      "           0       0.64      0.57      0.60       143\n",
      "           1       0.72      0.70      0.71       142\n",
      "           2       0.90      0.72      0.80       142\n",
      "           3       0.82      0.75      0.78       143\n",
      "           4       0.81      0.90      0.85       142\n",
      "           5       0.56      0.73      0.63       143\n",
      "\n",
      "    accuracy                           0.73       855\n",
      "   macro avg       0.74      0.73      0.73       855\n",
      "weighted avg       0.74      0.73      0.73       855\n",
      "\n",
      "\n",
      "\n",
      "Fim avaliação\n"
     ]
    }
   ],
   "source": [
    "list_models = [get_model_instace('LogisticRegression')\n",
    "                ,get_model_instace('MultinomialNB')\n",
    "                ,get_model_instace('RandomForestClassifier')\n",
    "                ,get_model_instace('SVC')\n",
    "                ,get_model_instace('SGDClassifier')\n",
    "                ,get_model_instace('DecisionTreeClassifier')\n",
    "                ,get_model_instace('KNeighborsClassifier')\n",
    "                ,get_model_instace('GradientBoostingClassifier')]\n",
    "\n",
    "list_vectors_instance = [get_vectorize_instance('CountVectorizer'), get_vectorize_instance('TfidfVectorizer')]\n",
    "\n",
    "for m in list_models:\n",
    "    for vec in list_vectors_instance:\n",
    "        y_pred = evaluates_score_model(m, vec, X_train_under, X_test_under, y_train_under, y_test_under)\n",
    "\n",
    "print('Fim avaliação')"
   ]
  }
 ],
 "metadata": {
  "colab": {
   "authorship_tag": "ABX9TyMG02q39tJHng2jAd9hg/vh",
   "collapsed_sections": [
    "FnWzRI0p6Rv8",
    "At17kj3m6lnL",
    "l_kN8q5RbieO",
    "_QBVSHNIbwBu",
    "f5R5Ou66q4r6",
    "FYr2VVjobKHV",
    "pCSzMYP35cZK",
    "G03_-osOkHyT",
    "PRKUjuJGF8pi",
    "XAH6fk6NfB44",
    "yFP1OrC1kvJj",
    "1fJNYKyFvuGQ"
   ],
   "mount_file_id": "1SsvDEWl_jATyCdx_DYQR29gqlzY-y_3c",
   "name": "Analise_Emocao.ipynb",
   "provenance": []
  },
  "kernelspec": {
   "display_name": "Python 3 (ipykernel)",
   "language": "python",
   "name": "python3"
  },
  "language_info": {
   "codemirror_mode": {
    "name": "ipython",
    "version": 3
   },
   "file_extension": ".py",
   "mimetype": "text/x-python",
   "name": "python",
   "nbconvert_exporter": "python",
   "pygments_lexer": "ipython3",
   "version": "3.10.4"
  }
 },
 "nbformat": 4,
 "nbformat_minor": 1
}
