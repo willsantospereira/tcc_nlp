{
 "cells": [
  {
   "cell_type": "markdown",
   "metadata": {
    "id": "FnWzRI0p6Rv8"
   },
   "source": [
    "#### Motar pasta do Google Drive ####"
   ]
  },
  {
   "cell_type": "code",
   "execution_count": 195,
   "metadata": {
    "colab": {
     "base_uri": "https://localhost:8080/"
    },
    "executionInfo": {
     "elapsed": 1875,
     "status": "ok",
     "timestamp": 1648564867473,
     "user": {
      "displayName": "Willian dos Santos Pereira",
      "userId": "14574313425442770033"
     },
     "user_tz": 180
    },
    "id": "EwfYB_UVjLJ9",
    "outputId": "8618e395-181f-47b8-cb8f-8d9942199bf7"
   },
   "outputs": [
    {
     "name": "stdout",
     "output_type": "stream",
     "text": [
      "Drive already mounted at /content/drive; to attempt to forcibly remount, call drive.mount(\"/content/drive\", force_remount=True).\n"
     ]
    }
   ],
   "source": [
    "# from google.colab import drive\n",
    "# drive.mount('/content/drive')"
   ]
  },
  {
   "cell_type": "markdown",
   "metadata": {
    "id": "5tU9LONa6pFQ"
   },
   "source": [
    "#### Imports e pip ####"
   ]
  },
  {
   "cell_type": "code",
   "execution_count": 1,
   "metadata": {
    "colab": {
     "base_uri": "https://localhost:8080/"
    },
    "executionInfo": {
     "elapsed": 10335,
     "status": "ok",
     "timestamp": 1648564877801,
     "user": {
      "displayName": "Willian dos Santos Pereira",
      "userId": "14574313425442770033"
     },
     "user_tz": 180
    },
    "id": "4bBdhgRx3aH5",
    "outputId": "b5e8f110-e114-4895-8e5b-5c37bd114bf0"
   },
   "outputs": [
    {
     "name": "stdout",
     "output_type": "stream",
     "text": [
      "Requirement already satisfied: transformers in c:\\users\\wills\\appdata\\local\\programs\\python\\python310\\lib\\site-packages (4.17.0)\n",
      "Requirement already satisfied: huggingface-hub<1.0,>=0.1.0 in c:\\users\\wills\\appdata\\local\\programs\\python\\python310\\lib\\site-packages (from transformers) (0.4.0)\n",
      "Requirement already satisfied: tqdm>=4.27 in c:\\users\\wills\\appdata\\local\\programs\\python\\python310\\lib\\site-packages (from transformers) (4.63.1)\n",
      "Requirement already satisfied: sacremoses in c:\\users\\wills\\appdata\\local\\programs\\python\\python310\\lib\\site-packages (from transformers) (0.0.49)\n",
      "Requirement already satisfied: tokenizers!=0.11.3,>=0.11.1 in c:\\users\\wills\\appdata\\local\\programs\\python\\python310\\lib\\site-packages (from transformers) (0.11.6)\n",
      "Requirement already satisfied: pyyaml>=5.1 in c:\\users\\wills\\appdata\\local\\programs\\python\\python310\\lib\\site-packages (from transformers) (6.0)\n",
      "Requirement already satisfied: numpy>=1.17 in c:\\users\\wills\\appdata\\local\\programs\\python\\python310\\lib\\site-packages (from transformers) (1.22.3)\n",
      "Requirement already satisfied: regex!=2019.12.17 in c:\\users\\wills\\appdata\\local\\programs\\python\\python310\\lib\\site-packages (from transformers) (2022.3.15)\n",
      "Requirement already satisfied: requests in c:\\users\\wills\\appdata\\local\\programs\\python\\python310\\lib\\site-packages (from transformers) (2.27.1)\n",
      "Requirement already satisfied: filelock in c:\\users\\wills\\appdata\\local\\programs\\python\\python310\\lib\\site-packages (from transformers) (3.6.0)\n",
      "Requirement already satisfied: packaging>=20.0 in c:\\users\\wills\\appdata\\local\\programs\\python\\python310\\lib\\site-packages (from transformers) (21.3)\n",
      "Requirement already satisfied: typing-extensions>=3.7.4.3 in c:\\users\\wills\\appdata\\local\\programs\\python\\python310\\lib\\site-packages (from huggingface-hub<1.0,>=0.1.0->transformers) (4.1.1)\n",
      "Requirement already satisfied: pyparsing!=3.0.5,>=2.0.2 in c:\\users\\wills\\appdata\\local\\programs\\python\\python310\\lib\\site-packages (from packaging>=20.0->transformers) (3.0.7)\n",
      "Requirement already satisfied: colorama in c:\\users\\wills\\appdata\\local\\programs\\python\\python310\\lib\\site-packages (from tqdm>=4.27->transformers) (0.4.4)\n",
      "Requirement already satisfied: urllib3<1.27,>=1.21.1 in c:\\users\\wills\\appdata\\local\\programs\\python\\python310\\lib\\site-packages (from requests->transformers) (1.26.9)\n",
      "Requirement already satisfied: certifi>=2017.4.17 in c:\\users\\wills\\appdata\\local\\programs\\python\\python310\\lib\\site-packages (from requests->transformers) (2021.10.8)\n",
      "Requirement already satisfied: idna<4,>=2.5 in c:\\users\\wills\\appdata\\local\\programs\\python\\python310\\lib\\site-packages (from requests->transformers) (3.3)\n",
      "Requirement already satisfied: charset-normalizer~=2.0.0 in c:\\users\\wills\\appdata\\local\\programs\\python\\python310\\lib\\site-packages (from requests->transformers) (2.0.12)\n",
      "Requirement already satisfied: joblib in c:\\users\\wills\\appdata\\local\\programs\\python\\python310\\lib\\site-packages (from sacremoses->transformers) (1.1.0)\n",
      "Requirement already satisfied: six in c:\\users\\wills\\appdata\\local\\programs\\python\\python310\\lib\\site-packages (from sacremoses->transformers) (1.16.0)\n",
      "Requirement already satisfied: click in c:\\users\\wills\\appdata\\local\\programs\\python\\python310\\lib\\site-packages (from sacremoses->transformers) (8.1.0)\n",
      "Requirement already satisfied: imbalanced-learn in c:\\users\\wills\\appdata\\local\\programs\\python\\python310\\lib\\site-packages (0.9.0)\n",
      "Requirement already satisfied: numpy>=1.14.6 in c:\\users\\wills\\appdata\\local\\programs\\python\\python310\\lib\\site-packages (from imbalanced-learn) (1.22.3)\n",
      "Requirement already satisfied: scikit-learn>=1.0.1 in c:\\users\\wills\\appdata\\local\\programs\\python\\python310\\lib\\site-packages (from imbalanced-learn) (1.0.2)\n",
      "Requirement already satisfied: joblib>=0.11 in c:\\users\\wills\\appdata\\local\\programs\\python\\python310\\lib\\site-packages (from imbalanced-learn) (1.1.0)\n",
      "Requirement already satisfied: threadpoolctl>=2.0.0 in c:\\users\\wills\\appdata\\local\\programs\\python\\python310\\lib\\site-packages (from imbalanced-learn) (3.1.0)\n",
      "Requirement already satisfied: scipy>=1.1.0 in c:\\users\\wills\\appdata\\local\\programs\\python\\python310\\lib\\site-packages (from imbalanced-learn) (1.8.0)\n"
     ]
    }
   ],
   "source": [
    "!pip install transformers\n",
    "!pip install imbalanced-learn"
   ]
  },
  {
   "cell_type": "code",
   "execution_count": 3,
   "metadata": {
    "executionInfo": {
     "elapsed": 260,
     "status": "ok",
     "timestamp": 1648578391391,
     "user": {
      "displayName": "Willian dos Santos Pereira",
      "userId": "14574313425442770033"
     },
     "user_tz": 180
    },
    "id": "IdnslPT42OKq"
   },
   "outputs": [
    {
     "ename": "ModuleNotFoundError",
     "evalue": "No module named 'pandas'",
     "output_type": "error",
     "traceback": [
      "\u001b[1;31m---------------------------------------------------------------------------\u001b[0m",
      "\u001b[1;31mModuleNotFoundError\u001b[0m                       Traceback (most recent call last)",
      "Input \u001b[1;32mIn [3]\u001b[0m, in \u001b[0;36m<cell line: 1>\u001b[1;34m()\u001b[0m\n\u001b[1;32m----> 1\u001b[0m \u001b[38;5;28;01mimport\u001b[39;00m \u001b[38;5;21;01mpandas\u001b[39;00m \u001b[38;5;28;01mas\u001b[39;00m \u001b[38;5;21;01mpd\u001b[39;00m\n\u001b[0;32m      2\u001b[0m \u001b[38;5;28;01mimport\u001b[39;00m \u001b[38;5;21;01mnltk\u001b[39;00m\n\u001b[0;32m      3\u001b[0m \u001b[38;5;28;01mfrom\u001b[39;00m \u001b[38;5;21;01msklearn\u001b[39;00m\u001b[38;5;21;01m.\u001b[39;00m\u001b[38;5;21;01mmodel_selection\u001b[39;00m \u001b[38;5;28;01mimport\u001b[39;00m train_test_split\n",
      "\u001b[1;31mModuleNotFoundError\u001b[0m: No module named 'pandas'"
     ]
    }
   ],
   "source": [
    "import pandas as pd\n",
    "import nltk\n",
    "from sklearn.model_selection import train_test_split\n",
    "from sklearn.model_selection import cross_val_predict\n",
    "from sklearn.model_selection import cross_validate\n",
    "from sklearn.model_selection import cross_val_score\n",
    "from sklearn.model_selection import RepeatedStratifiedKFold\n",
    "from sklearn.model_selection import GridSearchCV\n",
    "from sklearn.model_selection import RandomizedSearchCV\n",
    "from sklearn.preprocessing import LabelEncoder\n",
    "from sklearn.feature_extraction.text import CountVectorizer\n",
    "from sklearn.feature_extraction.text import TfidfVectorizer\n",
    "from sklearn.naive_bayes import MultinomialNB\n",
    "from sklearn.naive_bayes import GaussianNB\n",
    "from sklearn.ensemble import RandomForestClassifier\n",
    "from sklearn.linear_model import LogisticRegression, SGDClassifier\n",
    "from sklearn.tree import DecisionTreeClassifier\n",
    "from sklearn.neighbors import KNeighborsClassifier\n",
    "from sklearn.ensemble import GradientBoostingClassifier\n",
    "from imblearn.under_sampling import RandomUnderSampler\n",
    "from sklearn.svm import SVC\n",
    "from sklearn.pipeline import Pipeline\n",
    "from sklearn import svm\n",
    "from sklearn import metrics\n",
    "from matplotlib import pyplot\n",
    "from scipy.stats import loguniform\n",
    "\n",
    "from nltk.stem import WordNetLemmatizer\n",
    "from nltk.corpus import stopwords\n",
    "import string\n",
    "import re"
   ]
  },
  {
   "cell_type": "code",
   "execution_count": 382,
   "metadata": {
    "colab": {
     "base_uri": "https://localhost:8080/"
    },
    "executionInfo": {
     "elapsed": 413,
     "status": "ok",
     "timestamp": 1648578392206,
     "user": {
      "displayName": "Willian dos Santos Pereira",
      "userId": "14574313425442770033"
     },
     "user_tz": 180
    },
    "id": "CLz7yoefpBHo",
    "outputId": "949cbff1-26eb-4dec-dc4e-20fe32bd173f"
   },
   "outputs": [
    {
     "name": "stdout",
     "output_type": "stream",
     "text": [
      "[nltk_data] Downloading package stopwords to /root/nltk_data...\n",
      "[nltk_data]   Package stopwords is already up-to-date!\n",
      "[nltk_data] Downloading package rslp to /root/nltk_data...\n",
      "[nltk_data]   Package rslp is already up-to-date!\n",
      "[nltk_data] Downloading package punkt to /root/nltk_data...\n",
      "[nltk_data]   Package punkt is already up-to-date!\n",
      "[nltk_data] Downloading package wordnet to /root/nltk_data...\n",
      "[nltk_data]   Package wordnet is already up-to-date!\n"
     ]
    },
    {
     "data": {
      "text/plain": [
       "True"
      ]
     },
     "execution_count": 382,
     "metadata": {},
     "output_type": "execute_result"
    }
   ],
   "source": [
    "# termos muito frequentes que não tem relevância nos dados. São palavras que possuem apenas significado sintático dentro da sentença, porém não trazem informações relevantes sobre o seu sentido.\n",
    "nltk.download('stopwords')\n",
    "# RSLP Stemmer (Removedor de Sufixos da Lingua Portuguesa)\n",
    "nltk.download('rslp')\n",
    "# punkt é um tokenizer \n",
    "nltk.download('punkt')\n",
    "# dicionário de léxicos (conjunto de vocabulários de determinado idioma) e hierarquia de termos\n",
    "nltk.download('wordnet')"
   ]
  },
  {
   "cell_type": "markdown",
   "metadata": {
    "id": "At17kj3m6lnL"
   },
   "source": [
    "#### Carregar os dados nos dataframes ####"
   ]
  },
  {
   "cell_type": "code",
   "execution_count": 383,
   "metadata": {
    "executionInfo": {
     "elapsed": 17,
     "status": "ok",
     "timestamp": 1648578392206,
     "user": {
      "displayName": "Willian dos Santos Pereira",
      "userId": "14574313425442770033"
     },
     "user_tz": 180
    },
    "id": "pSocDiFn5Iut"
   },
   "outputs": [],
   "source": [
    "df_teste = pd.read_csv('../dataset/teste.csv', sep=';', names=('texto', 'emocao'), encoding='utf-8', header=None)\n",
    "df_treino = pd.read_csv('../dataset/treino.csv', sep=';', names=('texto', 'emocao'), encoding='utf-8', header=None)\n",
    "df_validacao = pd.read_csv('../dataset/validacao.csv', sep=';', names=('texto', 'emocao'), encoding='utf-8', header=None)\n",
    "df = pd.concat([df_treino, df_teste, df_validacao])"
   ]
  },
  {
   "cell_type": "markdown",
   "metadata": {
    "id": "l_kN8q5RbieO"
   },
   "source": [
    "#### Análise dos dados (tamanho dataset, valores para emoção, dados nulos/NaN)"
   ]
  },
  {
   "cell_type": "code",
   "execution_count": 384,
   "metadata": {
    "executionInfo": {
     "elapsed": 16,
     "status": "ok",
     "timestamp": 1648578392207,
     "user": {
      "displayName": "Willian dos Santos Pereira",
      "userId": "14574313425442770033"
     },
     "user_tz": 180
    },
    "id": "X1wImlKhUJLR"
   },
   "outputs": [],
   "source": [
    "# df.count()"
   ]
  },
  {
   "cell_type": "code",
   "execution_count": 385,
   "metadata": {
    "executionInfo": {
     "elapsed": 15,
     "status": "ok",
     "timestamp": 1648578392207,
     "user": {
      "displayName": "Willian dos Santos Pereira",
      "userId": "14574313425442770033"
     },
     "user_tz": 180
    },
    "id": "3DA9kIwInb_o"
   },
   "outputs": [],
   "source": [
    "# df.head(3)"
   ]
  },
  {
   "cell_type": "code",
   "execution_count": 386,
   "metadata": {
    "executionInfo": {
     "elapsed": 15,
     "status": "ok",
     "timestamp": 1648578392208,
     "user": {
      "displayName": "Willian dos Santos Pereira",
      "userId": "14574313425442770033"
     },
     "user_tz": 180
    },
    "id": "jQ9OHOjjUWb5"
   },
   "outputs": [],
   "source": [
    "# %matplotlib inline\n",
    "# df['emocao'].value_counts().plot(kind='bar')"
   ]
  },
  {
   "cell_type": "code",
   "execution_count": 387,
   "metadata": {
    "executionInfo": {
     "elapsed": 14,
     "status": "ok",
     "timestamp": 1648578392208,
     "user": {
      "displayName": "Willian dos Santos Pereira",
      "userId": "14574313425442770033"
     },
     "user_tz": 180
    },
    "id": "FwJd4nyXUQuK"
   },
   "outputs": [],
   "source": [
    "# df['emocao'].value_counts()"
   ]
  },
  {
   "cell_type": "code",
   "execution_count": 388,
   "metadata": {
    "executionInfo": {
     "elapsed": 14,
     "status": "ok",
     "timestamp": 1648578392209,
     "user": {
      "displayName": "Willian dos Santos Pereira",
      "userId": "14574313425442770033"
     },
     "user_tz": 180
    },
    "id": "5SRxZZmTpV16"
   },
   "outputs": [],
   "source": [
    "# df_tristeza = df[df['emocao'] == 'alegria']\n",
    "# df_tristeza.count()"
   ]
  },
  {
   "cell_type": "code",
   "execution_count": 389,
   "metadata": {
    "executionInfo": {
     "elapsed": 14,
     "status": "ok",
     "timestamp": 1648578392209,
     "user": {
      "displayName": "Willian dos Santos Pereira",
      "userId": "14574313425442770033"
     },
     "user_tz": 180
    },
    "id": "xDuHlkoipsCA"
   },
   "outputs": [],
   "source": [
    "# df_tristeza.head()"
   ]
  },
  {
   "cell_type": "markdown",
   "metadata": {
    "id": "_QBVSHNIbwBu"
   },
   "source": [
    "#### Feature Engineer:\n",
    "\n",
    "* Análise dos dados (tamanho dataset, valores para emoção, dados nulos/NaN)\n",
    "* Remover valores nulos/NAN\n",
    "* Remover linhas duplicadas"
   ]
  },
  {
   "cell_type": "code",
   "execution_count": 390,
   "metadata": {
    "colab": {
     "base_uri": "https://localhost:8080/"
    },
    "executionInfo": {
     "elapsed": 14,
     "status": "ok",
     "timestamp": 1648578392210,
     "user": {
      "displayName": "Willian dos Santos Pereira",
      "userId": "14574313425442770033"
     },
     "user_tz": 180
    },
    "id": "QBUXTVrG0DLL",
    "outputId": "2d128e09-6188-4a50-bce5-68f3b7d0c3c3"
   },
   "outputs": [
    {
     "data": {
      "text/plain": [
       "texto     0\n",
       "emocao    9\n",
       "dtype: int64"
      ]
     },
     "execution_count": 390,
     "metadata": {},
     "output_type": "execute_result"
    }
   ],
   "source": [
    "df.isna().sum()"
   ]
  },
  {
   "cell_type": "code",
   "execution_count": 391,
   "metadata": {
    "executionInfo": {
     "elapsed": 577,
     "status": "ok",
     "timestamp": 1648578392777,
     "user": {
      "displayName": "Willian dos Santos Pereira",
      "userId": "14574313425442770033"
     },
     "user_tz": 180
    },
    "id": "Ma5MuGHbaqfe"
   },
   "outputs": [],
   "source": [
    "df = df.dropna()"
   ]
  },
  {
   "cell_type": "code",
   "execution_count": 392,
   "metadata": {
    "colab": {
     "base_uri": "https://localhost:8080/"
    },
    "executionInfo": {
     "elapsed": 13,
     "status": "ok",
     "timestamp": 1648578392778,
     "user": {
      "displayName": "Willian dos Santos Pereira",
      "userId": "14574313425442770033"
     },
     "user_tz": 180
    },
    "id": "FBI6C-o906d3",
    "outputId": "f3bb747b-4e62-4dcd-d237-778db77650cf"
   },
   "outputs": [
    {
     "data": {
      "text/plain": [
       "texto     0\n",
       "emocao    0\n",
       "dtype: int64"
      ]
     },
     "execution_count": 392,
     "metadata": {},
     "output_type": "execute_result"
    }
   ],
   "source": [
    "df.isna().sum()"
   ]
  },
  {
   "cell_type": "code",
   "execution_count": 393,
   "metadata": {
    "colab": {
     "base_uri": "https://localhost:8080/"
    },
    "executionInfo": {
     "elapsed": 14,
     "status": "ok",
     "timestamp": 1648578392779,
     "user": {
      "displayName": "Willian dos Santos Pereira",
      "userId": "14574313425442770033"
     },
     "user_tz": 180
    },
    "id": "CgaE9f2509SB",
    "outputId": "ffb41555-90ca-4a98-8451-12a9850f2975"
   },
   "outputs": [
    {
     "data": {
      "text/plain": [
       "texto     19995\n",
       "emocao    19995\n",
       "dtype: int64"
      ]
     },
     "execution_count": 393,
     "metadata": {},
     "output_type": "execute_result"
    }
   ],
   "source": [
    "df.count()"
   ]
  },
  {
   "cell_type": "code",
   "execution_count": 394,
   "metadata": {
    "executionInfo": {
     "elapsed": 13,
     "status": "ok",
     "timestamp": 1648578392779,
     "user": {
      "displayName": "Willian dos Santos Pereira",
      "userId": "14574313425442770033"
     },
     "user_tz": 180
    },
    "id": "8vvTg9EibEsK"
   },
   "outputs": [],
   "source": [
    "df = df.drop_duplicates(['texto'])"
   ]
  },
  {
   "cell_type": "code",
   "execution_count": 395,
   "metadata": {
    "colab": {
     "base_uri": "https://localhost:8080/"
    },
    "executionInfo": {
     "elapsed": 14,
     "status": "ok",
     "timestamp": 1648578392780,
     "user": {
      "displayName": "Willian dos Santos Pereira",
      "userId": "14574313425442770033"
     },
     "user_tz": 180
    },
    "id": "I9zRw8WZbPyQ",
    "outputId": "18600190-f606-4a70-9e37-0a28bbf88ad7"
   },
   "outputs": [
    {
     "data": {
      "text/plain": [
       "texto     19918\n",
       "emocao    19918\n",
       "dtype: int64"
      ]
     },
     "execution_count": 395,
     "metadata": {},
     "output_type": "execute_result"
    }
   ],
   "source": [
    "df.count()"
   ]
  },
  {
   "cell_type": "markdown",
   "metadata": {
    "id": "QtqVKEkdb_aF"
   },
   "source": [
    "#### Defini funções para pre processamento"
   ]
  },
  {
   "cell_type": "code",
   "execution_count": 396,
   "metadata": {
    "executionInfo": {
     "elapsed": 14,
     "status": "ok",
     "timestamp": 1648578392780,
     "user": {
      "displayName": "Willian dos Santos Pereira",
      "userId": "14574313425442770033"
     },
     "user_tz": 180
    },
    "id": "N13-mYlY3gor"
   },
   "outputs": [],
   "source": [
    "pontuacao = list(string.punctuation)"
   ]
  },
  {
   "cell_type": "code",
   "execution_count": 397,
   "metadata": {
    "executionInfo": {
     "elapsed": 13,
     "status": "ok",
     "timestamp": 1648578392780,
     "user": {
      "displayName": "Willian dos Santos Pereira",
      "userId": "14574313425442770033"
     },
     "user_tz": 180
    },
    "id": "118msRTH3j6z"
   },
   "outputs": [],
   "source": [
    "def exclui_palavras_irrelevantes(texto):\n",
    "    stops = set(stopwords.words('portuguese') + pontuacao)\n",
    "    palavras = [i for i in texto.split() if not i in stops]\n",
    "    return (\" \".join(palavras))"
   ]
  },
  {
   "cell_type": "code",
   "execution_count": 398,
   "metadata": {
    "executionInfo": {
     "elapsed": 14,
     "status": "ok",
     "timestamp": 1648578392781,
     "user": {
      "displayName": "Willian dos Santos Pereira",
      "userId": "14574313425442770033"
     },
     "user_tz": 180
    },
    "id": "shNCY2Bh3m32"
   },
   "outputs": [],
   "source": [
    "def exclui_radicais(texto):\n",
    "    stemmer = nltk.stem.RSLPStemmer()\n",
    "    palavras = []\n",
    "    for w in texto.split():\n",
    "        palavras.append(stemmer.stem(w))\n",
    "    return (\" \".join(palavras))"
   ]
  },
  {
   "cell_type": "code",
   "execution_count": 399,
   "metadata": {
    "executionInfo": {
     "elapsed": 14,
     "status": "ok",
     "timestamp": 1648578392781,
     "user": {
      "displayName": "Willian dos Santos Pereira",
      "userId": "14574313425442770033"
     },
     "user_tz": 180
    },
    "id": "RAIULG2Q3oRV"
   },
   "outputs": [],
   "source": [
    "def exclui_pontuacao(texto):\n",
    "    palavras = [i for i in texto if not i in pontuacao]\n",
    "    return (\"\".join(palavras))"
   ]
  },
  {
   "cell_type": "code",
   "execution_count": 400,
   "metadata": {
    "executionInfo": {
     "elapsed": 14,
     "status": "ok",
     "timestamp": 1648578392781,
     "user": {
      "displayName": "Willian dos Santos Pereira",
      "userId": "14574313425442770033"
     },
     "user_tz": 180
    },
    "id": "w0Md9Noz3q_3"
   },
   "outputs": [],
   "source": [
    "def lemmatization(instancia):\n",
    "  wordnet_lemmatizer = WordNetLemmatizer()\n",
    "  palavras = []\n",
    "  for w in instancia.split():\n",
    "    palavras.append(wordnet_lemmatizer.lemmatize(w))\n",
    "  return (\" \".join(palavras))"
   ]
  },
  {
   "cell_type": "markdown",
   "metadata": {
    "id": "rs2lkFU9nkxB"
   },
   "source": [
    "\n",
    "#### Aplica as funções de pre-processamento nos dados e split Train / Test dataset\n",
    "\n",
    "* Avaliar o uso do Stemming (remove o radical das palavras (Ex. altera frequentemente para frenquent, imediatamente para imediat), isso pode trazer um problema pois ele pode gerar palavras que não existem no idioma.\n",
    "* Avaliar o uso do Lemmatization (Ex. uma forma de Stemming que mantém a palavra com significado real (Ex. altera frequentemente para frenquente, imediatamente para imediato). O problema dessa abordagem, é que o Lemmatizer do NLTK utiliza o Dicionário da WordNet que não é específico para o Portugues"
   ]
  },
  {
   "cell_type": "code",
   "execution_count": 401,
   "metadata": {
    "executionInfo": {
     "elapsed": 15,
     "status": "ok",
     "timestamp": 1648578392782,
     "user": {
      "displayName": "Willian dos Santos Pereira",
      "userId": "14574313425442770033"
     },
     "user_tz": 180
    },
    "id": "aZR07wS_o8No"
   },
   "outputs": [],
   "source": [
    "def pre_processing(texto, show_results=False):\n",
    "    stemmer = exclui_radicais(texto)\n",
    "    pont = exclui_pontuacao(stemmer)\n",
    "    stops = exclui_palavras_irrelevantes(pont)\n",
    "    lema = lemmatization(stops)\n",
    "    # palavras = [stemmer.stem(i) for i in instancia.split() if not i in stops]\n",
    "    if(show_results):\n",
    "      print('Original text: {}'.format(texto))\n",
    "      print('Stemmer aplicado: {}'.format(stemmer))\n",
    "      print('Exclusao de pontuação aplicado: {}'.format(pont))\n",
    "      print('Exclusao de stopwords aplicado: {}'.format(stops))\n",
    "    return (\"\".join(lema))"
   ]
  },
  {
   "cell_type": "code",
   "execution_count": 402,
   "metadata": {
    "colab": {
     "base_uri": "https://localhost:8080/"
    },
    "executionInfo": {
     "elapsed": 14,
     "status": "ok",
     "timestamp": 1648578392782,
     "user": {
      "displayName": "Willian dos Santos Pereira",
      "userId": "14574313425442770033"
     },
     "user_tz": 180
    },
    "id": "hPxD09jbBpWP",
    "outputId": "c5506fce-58a9-4ccd-99fd-c5e30d3ba701"
   },
   "outputs": [
    {
     "data": {
      "text/plain": [
       " alegria     6735\n",
       " tristeza    5779\n",
       " raiva       2698\n",
       " medo        2365\n",
       " amar        1629\n",
       " surpresa     712\n",
       "Name: emocao, dtype: int64"
      ]
     },
     "execution_count": 402,
     "metadata": {},
     "output_type": "execute_result"
    }
   ],
   "source": [
    "df['emocao'].value_counts()"
   ]
  },
  {
   "cell_type": "code",
   "execution_count": 403,
   "metadata": {
    "colab": {
     "base_uri": "https://localhost:8080/",
     "height": 321
    },
    "executionInfo": {
     "elapsed": 14,
     "status": "ok",
     "timestamp": 1648578392782,
     "user": {
      "displayName": "Willian dos Santos Pereira",
      "userId": "14574313425442770033"
     },
     "user_tz": 180
    },
    "id": "w0TbyIAgAROk",
    "outputId": "7a38e15f-567e-4005-e122-2aa4e4702dfb"
   },
   "outputs": [
    {
     "data": {
      "text/plain": [
       "<matplotlib.axes._subplots.AxesSubplot at 0x7f94e988f8d0>"
      ]
     },
     "execution_count": 403,
     "metadata": {},
     "output_type": "execute_result"
    },
    {
     "data": {
      "image/png": "[encoded data removed]",
      "text/plain": [
       "<Figure size 432x288 with 1 Axes>"
      ]
     },
     "metadata": {
      "needs_background": "light"
     },
     "output_type": "display_data"
    }
   ],
   "source": [
    "%matplotlib inline\n",
    "df['emocao'].value_counts().plot(kind='bar')\n",
    "\n",
    "# pyplot.plot(df['emocao'].value_counts())\n",
    "# pyplot.show()"
   ]
  },
  {
   "cell_type": "code",
   "execution_count": 404,
   "metadata": {
    "colab": {
     "base_uri": "https://localhost:8080/",
     "height": 49
    },
    "executionInfo": {
     "elapsed": 12,
     "status": "ok",
     "timestamp": 1648578392783,
     "user": {
      "displayName": "Willian dos Santos Pereira",
      "userId": "14574313425442770033"
     },
     "user_tz": 180
    },
    "id": "Rphg4bqgKK1r",
    "outputId": "e8c6a43e-a399-4bf9-8361-7dc00f7c1af2"
   },
   "outputs": [
    {
     "data": {
      "text/html": [
       "\n",
       "  <div id=\"df-73ecf6cc-b0e8-437e-89a6-f9c98d79707d\">\n",
       "    <div class=\"colab-df-container\">\n",
       "      <div>\n",
       "<style scoped>\n",
       "    .dataframe tbody tr th:only-of-type {\n",
       "        vertical-align: middle;\n",
       "    }\n",
       "\n",
       "    .dataframe tbody tr th {\n",
       "        vertical-align: top;\n",
       "    }\n",
       "\n",
       "    .dataframe thead th {\n",
       "        text-align: right;\n",
       "    }\n",
       "</style>\n",
       "<table border=\"1\" class=\"dataframe\">\n",
       "  <thead>\n",
       "    <tr style=\"text-align: right;\">\n",
       "      <th></th>\n",
       "      <th>texto</th>\n",
       "      <th>emocao</th>\n",
       "    </tr>\n",
       "  </thead>\n",
       "  <tbody>\n",
       "  </tbody>\n",
       "</table>\n",
       "</div>\n",
       "      <button class=\"colab-df-convert\" onclick=\"convertToInteractive('df-73ecf6cc-b0e8-437e-89a6-f9c98d79707d')\"\n",
       "              title=\"Convert this dataframe to an interactive table.\"\n",
       "              style=\"display:none;\">\n",
       "        \n",
       "  <svg xmlns=\"http://www.w3.org/2000/svg\" height=\"24px\"viewBox=\"0 0 24 24\"\n",
       "       width=\"24px\">\n",
       "    <path d=\"M0 0h24v24H0V0z\" fill=\"none\"/>\n",
       "    <path d=\"M18.56 5.44l.94 2.06.94-2.06 2.06-.94-2.06-.94-.94-2.06-.94 2.06-2.06.94zm-11 1L8.5 8.5l.94-2.06 2.06-.94-2.06-.94L8.5 2.5l-.94 2.06-2.06.94zm10 10l.94 2.06.94-2.06 2.06-.94-2.06-.94-.94-2.06-.94 2.06-2.06.94z\"/><path d=\"M17.41 7.96l-1.37-1.37c-.4-.4-.92-.59-1.43-.59-.52 0-1.04.2-1.43.59L10.3 9.45l-7.72 7.72c-.78.78-.78 2.05 0 2.83L4 21.41c.39.39.9.59 1.41.59.51 0 1.02-.2 1.41-.59l7.78-7.78 2.81-2.81c.8-.78.8-2.07 0-2.86zM5.41 20L4 18.59l7.72-7.72 1.47 1.35L5.41 20z\"/>\n",
       "  </svg>\n",
       "      </button>\n",
       "      \n",
       "  <style>\n",
       "    .colab-df-container {\n",
       "      display:flex;\n",
       "      flex-wrap:wrap;\n",
       "      gap: 12px;\n",
       "    }\n",
       "\n",
       "    .colab-df-convert {\n",
       "      background-color: #E8F0FE;\n",
       "      border: none;\n",
       "      border-radius: 50%;\n",
       "      cursor: pointer;\n",
       "      display: none;\n",
       "      fill: #1967D2;\n",
       "      height: 32px;\n",
       "      padding: 0 0 0 0;\n",
       "      width: 32px;\n",
       "    }\n",
       "\n",
       "    .colab-df-convert:hover {\n",
       "      background-color: #E2EBFA;\n",
       "      box-shadow: 0px 1px 2px rgba(60, 64, 67, 0.3), 0px 1px 3px 1px rgba(60, 64, 67, 0.15);\n",
       "      fill: #174EA6;\n",
       "    }\n",
       "\n",
       "    [theme=dark] .colab-df-convert {\n",
       "      background-color: #3B4455;\n",
       "      fill: #D2E3FC;\n",
       "    }\n",
       "\n",
       "    [theme=dark] .colab-df-convert:hover {\n",
       "      background-color: #434B5C;\n",
       "      box-shadow: 0px 1px 3px 1px rgba(0, 0, 0, 0.15);\n",
       "      filter: drop-shadow(0px 1px 2px rgba(0, 0, 0, 0.3));\n",
       "      fill: #FFFFFF;\n",
       "    }\n",
       "  </style>\n",
       "\n",
       "      <script>\n",
       "        const buttonEl =\n",
       "          document.querySelector('#df-73ecf6cc-b0e8-437e-89a6-f9c98d79707d button.colab-df-convert');\n",
       "        buttonEl.style.display =\n",
       "          google.colab.kernel.accessAllowed ? 'block' : 'none';\n",
       "\n",
       "        async function convertToInteractive(key) {\n",
       "          const element = document.querySelector('#df-73ecf6cc-b0e8-437e-89a6-f9c98d79707d');\n",
       "          const dataTable =\n",
       "            await google.colab.kernel.invokeFunction('convertToInteractive',\n",
       "                                                     [key], {});\n",
       "          if (!dataTable) return;\n",
       "\n",
       "          const docLinkHtml = 'Like what you see? Visit the ' +\n",
       "            '<a target=\"_blank\" href=https://colab.research.google.com/notebooks/data_table.ipynb>data table notebook</a>'\n",
       "            + ' to learn more about interactive tables.';\n",
       "          element.innerHTML = '';\n",
       "          dataTable['output_type'] = 'display_data';\n",
       "          await google.colab.output.renderOutput(dataTable, element);\n",
       "          const docLink = document.createElement('div');\n",
       "          docLink.innerHTML = docLinkHtml;\n",
       "          element.appendChild(docLink);\n",
       "        }\n",
       "      </script>\n",
       "    </div>\n",
       "  </div>\n",
       "  "
      ],
      "text/plain": [
       "Empty DataFrame\n",
       "Columns: [texto, emocao]\n",
       "Index: []"
      ]
     },
     "execution_count": 404,
     "metadata": {},
     "output_type": "execute_result"
    }
   ],
   "source": [
    "# df_filtered = df.loc[df['emocao'] == 'alegria'\n",
    "df_filtered = df.filter(like='alegria', axis=0)\n",
    "type(df_filtered)\n",
    "\n",
    "df_filtered\n",
    "\n",
    "# %matplotlib inline\n",
    "# df_filtered['emocao'].value_counts().plot(kind='bar')"
   ]
  },
  {
   "cell_type": "code",
   "execution_count": 405,
   "metadata": {
    "executionInfo": {
     "elapsed": 41953,
     "status": "ok",
     "timestamp": 1648578434724,
     "user": {
      "displayName": "Willian dos Santos Pereira",
      "userId": "14574313425442770033"
     },
     "user_tz": 180
    },
    "id": "JU40ezraBuyI"
   },
   "outputs": [],
   "source": [
    "X = [pre_processing(i) for i in df['texto']]"
   ]
  },
  {
   "cell_type": "code",
   "execution_count": 406,
   "metadata": {
    "executionInfo": {
     "elapsed": 22,
     "status": "ok",
     "timestamp": 1648578434725,
     "user": {
      "displayName": "Willian dos Santos Pereira",
      "userId": "14574313425442770033"
     },
     "user_tz": 180
    },
    "id": "mWNij_v02xVS"
   },
   "outputs": [],
   "source": [
    "labelencoder = LabelEncoder()\n",
    "y_train_enco = labelencoder.fit_transform(df['emocao'])\n",
    "\n",
    "# Com o uso do Undersampler a performce do modelo piora, muito provavelmente devido a grande diminuição de dados\n",
    "# undersample = RandomUnderSampler()\n",
    "# X_under, y_under = undersample.fit_resample(pd.DataFrame(X), pd.DataFrame(y_train_enco))\n",
    "# X_train, X_test, y_train, y_test = train_test_split(X_under.squeeze(), y_under.squeeze(), random_state=41, test_size=0.2, stratify=y_under)\n",
    "\n",
    "X_train, X_test, y_train, y_test = train_test_split(pd.DataFrame(X).squeeze(), pd.DataFrame(y_train_enco).squeeze(), random_state=41, test_size=0.2, stratify=pd.DataFrame(y_train_enco).squeeze())"
   ]
  },
  {
   "cell_type": "code",
   "execution_count": 407,
   "metadata": {
    "colab": {
     "base_uri": "https://localhost:8080/"
    },
    "executionInfo": {
     "elapsed": 20,
     "status": "ok",
     "timestamp": 1648578434726,
     "user": {
      "displayName": "Willian dos Santos Pereira",
      "userId": "14574313425442770033"
     },
     "user_tz": 180
    },
    "id": "lYOidZ7MByD4",
    "outputId": "534548c2-1197-4f80-d8f9-542e547a417c"
   },
   "outputs": [
    {
     "data": {
      "text/plain": [
       "numpy.ndarray"
      ]
     },
     "execution_count": 407,
     "metadata": {},
     "output_type": "execute_result"
    }
   ],
   "source": [
    "type(y_train_enco)"
   ]
  },
  {
   "cell_type": "code",
   "execution_count": 408,
   "metadata": {
    "colab": {
     "base_uri": "https://localhost:8080/",
     "height": 279
    },
    "executionInfo": {
     "elapsed": 17,
     "status": "ok",
     "timestamp": 1648578434726,
     "user": {
      "displayName": "Willian dos Santos Pereira",
      "userId": "14574313425442770033"
     },
     "user_tz": 180
    },
    "id": "rk957PT4HimB",
    "outputId": "26b0a752-13c2-4e3e-967d-63fa70a63e71"
   },
   "outputs": [
    {
     "data": {
      "text/plain": [
       "<matplotlib.axes._subplots.AxesSubplot at 0x7f94e122ea10>"
      ]
     },
     "execution_count": 408,
     "metadata": {},
     "output_type": "execute_result"
    },
    {
     "data": {
      "image/png": "[encoded data removed]",
      "text/plain": [
       "<Figure size 432x288 with 1 Axes>"
      ]
     },
     "metadata": {
      "needs_background": "light"
     },
     "output_type": "display_data"
    }
   ],
   "source": [
    "%matplotlib inline\n",
    "y_train.value_counts().plot(kind='bar')"
   ]
  },
  {
   "cell_type": "code",
   "execution_count": 409,
   "metadata": {
    "executionInfo": {
     "elapsed": 15,
     "status": "ok",
     "timestamp": 1648578434727,
     "user": {
      "displayName": "Willian dos Santos Pereira",
      "userId": "14574313425442770033"
     },
     "user_tz": 180
    },
    "id": "_db33VmwBs8_"
   },
   "outputs": [],
   "source": [
    "# y_under.value_counts()"
   ]
  },
  {
   "cell_type": "code",
   "execution_count": 410,
   "metadata": {
    "executionInfo": {
     "elapsed": 540,
     "status": "ok",
     "timestamp": 1648578435252,
     "user": {
      "displayName": "Willian dos Santos Pereira",
      "userId": "14574313425442770033"
     },
     "user_tz": 180
    },
    "id": "qa57J7_wAQSW"
   },
   "outputs": [],
   "source": [
    "# %matplotlib inline\n",
    "# y_under.value_counts().plot(kind='bar')"
   ]
  },
  {
   "cell_type": "code",
   "execution_count": 411,
   "metadata": {
    "executionInfo": {
     "elapsed": 9,
     "status": "ok",
     "timestamp": 1648578435252,
     "user": {
      "displayName": "Willian dos Santos Pereira",
      "userId": "14574313425442770033"
     },
     "user_tz": 180
    },
    "id": "rgE5h8t6p-yo"
   },
   "outputs": [],
   "source": [
    "# X_train, X_test, y_train, y_test = train_test_split(df['texto'], df['emocao'], random_state=41, test_size=0.2, stratify=df['emocao'])\n",
    "\n",
    "# X_train = [pre_processing(i) for i in X_train]\n",
    "# X_test = [pre_processing(i) for i in X_test]\n",
    "\n",
    "# X = [pre_processing(i) for i in df['texto']]\n",
    "# X_test = [pre_processing(i) for i in df['emocao']]\n",
    "\n",
    "# y = df['emocao']\n",
    "# X_train, X_test, y_train, y_test = train_test_split(pd.DataFrame(X), df['emocao'], random_state=41, test_size=0.2, stratify=df['emocao'])"
   ]
  },
  {
   "cell_type": "markdown",
   "metadata": {
    "id": "f5R5Ou66q4r6"
   },
   "source": [
    "#### Tokenização - Importante. Por não se tratar de uma análise de dados recuperados da internet, onde existe um linguajar específico onde é usado emoticons, hashtag, emojis e etc, para essa análise não precisamos utilizar o Tokenizer do Tweeter para tratar esse tipo de linguajar. Podemos usar o Tokenizer de palavras normais e entender que o espaço é o suficiente para separar as palavras sem afetar o sentido do textos"
   ]
  },
  {
   "cell_type": "markdown",
   "metadata": {
    "id": "FYr2VVjobKHV"
   },
   "source": [
    "#### Frases e Predições de teste"
   ]
  },
  {
   "cell_type": "code",
   "execution_count": 412,
   "metadata": {
    "executionInfo": {
     "elapsed": 9,
     "status": "ok",
     "timestamp": 1648578435253,
     "user": {
      "displayName": "Willian dos Santos Pereira",
      "userId": "14574313425442770033"
     },
     "user_tz": 180
    },
    "id": "GpjOBeMSbRm9"
   },
   "outputs": [],
   "source": [
    "# defina instâncias de teste dentro de uma lista\n",
    "# alegria, tristeza, raiva, medo, amar, surpresa\n",
    "# testes = ['eu posso ter para um deleite ou se estou me sentindo festivo',\n",
    "#           'estou me sentindo muito triste e com pena de mim mesma, mas logo vou me livrar disso',\n",
    "#           'estou apenas me sentindo mal-humorada e azul ',\n",
    "#           'só sei que, para começar, vou me sentir tímido com isso',\n",
    "#           'eu também adorei que você pudesse realmente sentir o desespero nessas sequências e eu gostei especialmente da emoção entre cavaleiro e escudeiro, já que eles estão juntos de maneira semelhante a batman e robin há muito tempo',\n",
    "#           'estou me sentindo um pouco atordoada com a quantidade de itens que não uso mais para decoração']\n",
    "\n",
    "# will_teste = ['esse Vitor Pereira é um bosta! Está ferrando o time',\n",
    "#               'ainda bem que amanhã é segunda e a Thais vai acordar sem dor',\n",
    "#               'eu achei que eu iria conseguir finalizar o TCC a tempo']\n",
    "\n",
    "# will_predicao = ['raiva', 'alegria', 'surpresa']\n",
    "\n",
    "# classe_emocoes = ['alegria', 'tristeza', 'raiva', 'medo', 'amar', 'surpresa']\n",
    "\n",
    "# predicao_correta = ['alegria', 'tristeza', 'raiva', 'medo', 'amar', 'surpresa']"
   ]
  },
  {
   "cell_type": "code",
   "execution_count": 413,
   "metadata": {
    "executionInfo": {
     "elapsed": 8,
     "status": "ok",
     "timestamp": 1648578435253,
     "user": {
      "displayName": "Willian dos Santos Pereira",
      "userId": "14574313425442770033"
     },
     "user_tz": 180
    },
    "id": "K0NVAsdTbVpw"
   },
   "outputs": [],
   "source": [
    "# testes = [pre_processing(i) for i in testes]"
   ]
  },
  {
   "cell_type": "code",
   "execution_count": 414,
   "metadata": {
    "executionInfo": {
     "elapsed": 6,
     "status": "ok",
     "timestamp": 1648578435253,
     "user": {
      "displayName": "Willian dos Santos Pereira",
      "userId": "14574313425442770033"
     },
     "user_tz": 180
    },
    "id": "TuHLIhVtDJE_"
   },
   "outputs": [],
   "source": [
    "# Transforma os dados de teste em vetores de palavras.\n",
    "# tfidf_vectorizer = TfidfVectorizer()\n",
    "# tfidf_vectorizer.fit(X_train)\n",
    "# texto_teste_vetorizado = tfidf_vectorizer.transform(testes)"
   ]
  },
  {
   "cell_type": "code",
   "execution_count": 415,
   "metadata": {
    "executionInfo": {
     "elapsed": 6,
     "status": "ok",
     "timestamp": 1648578435253,
     "user": {
      "displayName": "Willian dos Santos Pereira",
      "userId": "14574313425442770033"
     },
     "user_tz": 180
    },
    "id": "238v5rZEe4W7"
   },
   "outputs": [],
   "source": [
    "# tfidf_vectorizer = TfidfVectorizer()\n",
    "# tfidf_vectorizer.fit(X_train)\n",
    "# will_teste_vetorizado = tfidf_vectorizer.transform(will_teste)"
   ]
  },
  {
   "cell_type": "markdown",
   "metadata": {
    "id": "RHgrn-_8BrEz"
   },
   "source": [
    "#### Vetorização dos textos\n",
    "\n",
    "*   CountVectorizer: [BagOfWords Model] - É uma representação numérica de uma fração do texto que facilita a classificação, dessa forma o algoritmo conta a frequnência com que a palavra aparece no texto e cria um dicionário disso. Isso é chamado de Tokenization in NLP (Natural Language Processing). O CountVectorizer realiza esse processo\n",
    "*   TfidfVectorizer: Transforma texto em vetores de recursos que podem ser usados ​​como entrada para o estimador\n",
    "\n"
   ]
  },
  {
   "cell_type": "code",
   "execution_count": 416,
   "metadata": {
    "executionInfo": {
     "elapsed": 6,
     "status": "ok",
     "timestamp": 1648578435254,
     "user": {
      "displayName": "Willian dos Santos Pereira",
      "userId": "14574313425442770033"
     },
     "user_tz": 180
    },
    "id": "vPoHzu1-Dspe"
   },
   "outputs": [],
   "source": [
    "def get_vectorize_instance(vectorize_name):\n",
    "  if(vectorize_name == 'CountVectorizer'):\n",
    "    return CountVectorizer(analyzer=\"word\")\n",
    "  elif(vectorize_name == 'TfidfVectorizer'):\n",
    "    return TfidfVectorizer()\n",
    "  else:\n",
    "    raise Exception(\"Vectorizer not found!\")"
   ]
  },
  {
   "cell_type": "code",
   "execution_count": 417,
   "metadata": {
    "executionInfo": {
     "elapsed": 6,
     "status": "ok",
     "timestamp": 1648578435254,
     "user": {
      "displayName": "Willian dos Santos Pereira",
      "userId": "14574313425442770033"
     },
     "user_tz": 180
    },
    "id": "fVR4jpwgDN5x"
   },
   "outputs": [],
   "source": [
    "def vectorize_dataframe(vectorizer, X_train, X_test):\n",
    "  if(type(vectorizer) is CountVectorizer):\n",
    "    train_data = vectorizer.fit_transform(X_train)\n",
    "    test_data = vectorizer.transform(X_test)\n",
    "    return train_data, test_data\n",
    "  elif (type(vectorizer) is TfidfVectorizer):\n",
    "    vectorizer.fit(X_train)\n",
    "    train_data = vectorizer.transform(X_train)\n",
    "    test_data = vectorizer.transform(X_test)\n",
    "    return train_data, test_data\n",
    "  else:\n",
    "    raise Exception(\"Vectorizer type incorrect!\")"
   ]
  },
  {
   "cell_type": "code",
   "execution_count": 418,
   "metadata": {
    "executionInfo": {
     "elapsed": 6,
     "status": "ok",
     "timestamp": 1648578435254,
     "user": {
      "displayName": "Willian dos Santos Pereira",
      "userId": "14574313425442770033"
     },
     "user_tz": 180
    },
    "id": "1b-rTQrlIlXz"
   },
   "outputs": [],
   "source": [
    "def train_model(modelo, X_train, y_train):\n",
    "  return modelo.fit(X_train, y_train)"
   ]
  },
  {
   "cell_type": "code",
   "execution_count": 419,
   "metadata": {
    "executionInfo": {
     "elapsed": 6,
     "status": "ok",
     "timestamp": 1648578435254,
     "user": {
      "displayName": "Willian dos Santos Pereira",
      "userId": "14574313425442770033"
     },
     "user_tz": 180
    },
    "id": "dREI1OXOQqK9"
   },
   "outputs": [],
   "source": [
    "def predict_model(modelo, X_test):\n",
    "  return modelo.predict(X_test)"
   ]
  },
  {
   "cell_type": "code",
   "execution_count": 420,
   "metadata": {
    "executionInfo": {
     "elapsed": 7,
     "status": "ok",
     "timestamp": 1648578435255,
     "user": {
      "displayName": "Willian dos Santos Pereira",
      "userId": "14574313425442770033"
     },
     "user_tz": 180
    },
    "id": "TQkMOmtqQ_CO"
   },
   "outputs": [],
   "source": [
    "def score_model(modelo, X_test, y_test):\n",
    "  return modelo.score(X_test, y_test)"
   ]
  },
  {
   "cell_type": "code",
   "execution_count": 421,
   "metadata": {
    "executionInfo": {
     "elapsed": 7,
     "status": "ok",
     "timestamp": 1648578435255,
     "user": {
      "displayName": "Willian dos Santos Pereira",
      "userId": "14574313425442770033"
     },
     "user_tz": 180
    },
    "id": "drStZD6Gv9fe"
   },
   "outputs": [],
   "source": [
    "def plot_predict_right(X_test, predictions, right_predictions, num_rows=5):\n",
    "  pred = pd.DataFrame({'texto': X_test, 'predição sentimento': predictions, 'predição correta': right_predictions})\n",
    "  print(pred[:num_rows])"
   ]
  },
  {
   "cell_type": "code",
   "execution_count": 422,
   "metadata": {
    "executionInfo": {
     "elapsed": 6,
     "status": "ok",
     "timestamp": 1648578435255,
     "user": {
      "displayName": "Willian dos Santos Pereira",
      "userId": "14574313425442770033"
     },
     "user_tz": 180
    },
    "id": "OfjImHmjqSmp"
   },
   "outputs": [],
   "source": [
    "def plot_classification_report(y_test, y_pred):\n",
    "  print(metrics.classification_report(y_test, y_pred))"
   ]
  },
  {
   "cell_type": "code",
   "execution_count": 423,
   "metadata": {
    "executionInfo": {
     "elapsed": 6,
     "status": "ok",
     "timestamp": 1648578435255,
     "user": {
      "displayName": "Willian dos Santos Pereira",
      "userId": "14574313425442770033"
     },
     "user_tz": 180
    },
    "id": "JmPPe11QLzdZ"
   },
   "outputs": [],
   "source": [
    "def avalia_modelo_score(modelo, vectorizer, X_train, X_test, y_train, y_test):\n",
    "  # print('Modelo: {}'.format(type(modelo)))\n",
    "  # print('Vectorizer: {}'.format(type(vectorizer)))\n",
    "  train_vectorized, test_vectorized = vectorize_dataframe(vectorizer, X_train, X_test)\n",
    "  model = train_model(modelo, train_vectorized, y_train)\n",
    "  y_pred = predict_model(modelo, test_vectorized)\n",
    "  print('Accuracy do Modelo {} com Vectorizer {} é de {:.3f}'.format(modelo, vectorizer, float(metrics.accuracy_score(y_test, y_pred))))\n",
    "  print('Precision do Modelo {} com Vectorizer {} é de {:.3f}'.format(modelo, vectorizer, float(metrics.precision_score(y_test, y_pred, average='macro'))))\n",
    "  print('Recall do Modelo {} com Vectorizer {} é de {:.3f}'.format(modelo, vectorizer, float(metrics.recall_score(y_test, y_pred, average='macro'))))\n",
    "  print('F1-Score do Modelo {} com Vectorizer {} é de {:.3f}'.format(modelo, vectorizer, float(metrics.f1_score(y_test, y_pred, average='macro'))))\n",
    "  print('\\n')\n",
    "  plot_classification_report(y_test, y_pred)\n",
    "  return y_pred"
   ]
  },
  {
   "cell_type": "code",
   "execution_count": null,
   "metadata": {
    "id": "-mQiOtgQ3g0w"
   },
   "outputs": [],
   "source": [
    "cv = RepeatedStratifiedKFold(n_splits=10, n_repeats=3, random_state=1)\n",
    "\n",
    "space = dict()\n",
    "space['solver'] = ['newton-cg', 'lbfgs', 'liblinear']\n",
    "space['penalty'] = ['none', 'l1', 'l2', 'elasticnet']\n",
    "space['C'] = loguniform(1e-5, 100)\n",
    "\n",
    "search = RandomizedSearchCV(LogisticRegression(), space, n_iter=500, scoring='accuracy', n_jobs=-1, cv=cv, random_state=1)\n",
    "# search = GridSearchCV(..., scoring='accuracy', n_jobs=-1)\n",
    "\n",
    "train_vectorized, test_vectorized = vectorize_dataframe(get_vectorize_instance('TfidfVectorizer'), X_train, X_test)\n",
    "\n",
    "# execute search\n",
    "result = search.fit(train_vectorized, y_train)\n",
    "\n",
    "# summarize result\n",
    "print('Best Score: %s' % result.best_score_)\n",
    "print('Best Hyperparameters: %s' % result.best_params_)"
   ]
  },
  {
   "cell_type": "markdown",
   "metadata": {
    "id": "QPcE-3VGA84D"
   },
   "source": [
    "#### Modelo Regressão Logística"
   ]
  },
  {
   "cell_type": "code",
   "execution_count": null,
   "metadata": {
    "executionInfo": {
     "elapsed": 22,
     "status": "aborted",
     "timestamp": 1648578471886,
     "user": {
      "displayName": "Willian dos Santos Pereira",
      "userId": "14574313425442770033"
     },
     "user_tz": 180
    },
    "id": "3X5nNzUONtj-"
   },
   "outputs": [],
   "source": [
    "y_pred_lr_count_vec = avalia_modelo_score(LogisticRegression(multi_class='multinomial', solver='lbfgs'), get_vectorize_instance('CountVectorizer'), X_train, X_test, y_train, y_test)"
   ]
  },
  {
   "cell_type": "code",
   "execution_count": null,
   "metadata": {
    "executionInfo": {
     "elapsed": 386,
     "status": "aborted",
     "timestamp": 1648578472251,
     "user": {
      "displayName": "Willian dos Santos Pereira",
      "userId": "14574313425442770033"
     },
     "user_tz": 180
    },
    "id": "IbtXCqDWq-UE"
   },
   "outputs": [],
   "source": [
    "y_pred_lr_tfidf_vec = avalia_modelo_score(LogisticRegression(multi_class='multinomial', solver='lbfgs'), get_vectorize_instance('TfidfVectorizer'), X_train, X_test, y_train, y_test)"
   ]
  },
  {
   "cell_type": "markdown",
   "metadata": {
    "id": "UO72Jds0Yey3"
   },
   "source": [
    "#### Modelo Multinomial Naive Bayes"
   ]
  },
  {
   "cell_type": "code",
   "execution_count": null,
   "metadata": {
    "executionInfo": {
     "elapsed": 386,
     "status": "aborted",
     "timestamp": 1648578472251,
     "user": {
      "displayName": "Willian dos Santos Pereira",
      "userId": "14574313425442770033"
     },
     "user_tz": 180
    },
    "id": "VnUza7dkubqP"
   },
   "outputs": [],
   "source": [
    "y_pred_mnb_count_vec = avalia_modelo_score(MultinomialNB(), get_vectorize_instance('CountVectorizer'), X_train, X_test, y_train, y_test)"
   ]
  },
  {
   "cell_type": "code",
   "execution_count": null,
   "metadata": {
    "executionInfo": {
     "elapsed": 387,
     "status": "aborted",
     "timestamp": 1648578472252,
     "user": {
      "displayName": "Willian dos Santos Pereira",
      "userId": "14574313425442770033"
     },
     "user_tz": 180
    },
    "id": "ydixXW0gub9H"
   },
   "outputs": [],
   "source": [
    "y_pred_mnb_tfidf_vec = avalia_modelo_score(MultinomialNB(), get_vectorize_instance('TfidfVectorizer'), X_train, X_test, y_train, y_test)"
   ]
  },
  {
   "cell_type": "markdown",
   "metadata": {
    "id": "vNh1sqtTYh_4"
   },
   "source": [
    "#### Modelo Random Forest"
   ]
  },
  {
   "cell_type": "code",
   "execution_count": null,
   "metadata": {
    "executionInfo": {
     "elapsed": 387,
     "status": "aborted",
     "timestamp": 1648578472252,
     "user": {
      "displayName": "Willian dos Santos Pereira",
      "userId": "14574313425442770033"
     },
     "user_tz": 180
    },
    "id": "kHyVXUs9jNNz"
   },
   "outputs": [],
   "source": [
    "y_pred_rf_count_vec = avalia_modelo_score(RandomForestClassifier(n_estimators=100), get_vectorize_instance('CountVectorizer'), X_train, X_test, y_train, y_test)"
   ]
  },
  {
   "cell_type": "code",
   "execution_count": null,
   "metadata": {
    "executionInfo": {
     "elapsed": 388,
     "status": "aborted",
     "timestamp": 1648578472253,
     "user": {
      "displayName": "Willian dos Santos Pereira",
      "userId": "14574313425442770033"
     },
     "user_tz": 180
    },
    "id": "BXI1Nee1um0U"
   },
   "outputs": [],
   "source": [
    "y_pred_rf_tfidf_vec = avalia_modelo_score(RandomForestClassifier(n_estimators=100), get_vectorize_instance('TfidfVectorizer'), X_train, X_test, y_train, y_test)"
   ]
  },
  {
   "cell_type": "markdown",
   "metadata": {
    "id": "dPQZ9Eu6YkNx"
   },
   "source": [
    "#### Modelo SVM"
   ]
  },
  {
   "cell_type": "code",
   "execution_count": null,
   "metadata": {
    "executionInfo": {
     "elapsed": 388,
     "status": "aborted",
     "timestamp": 1648578472253,
     "user": {
      "displayName": "Willian dos Santos Pereira",
      "userId": "14574313425442770033"
     },
     "user_tz": 180
    },
    "id": "j130inKUuxHg"
   },
   "outputs": [],
   "source": [
    "y_pred_svm_count_vec = avalia_modelo_score(SVC(kernel='linear'), get_vectorize_instance('CountVectorizer'), X_train, X_test, y_train, y_test)"
   ]
  },
  {
   "cell_type": "code",
   "execution_count": null,
   "metadata": {
    "executionInfo": {
     "elapsed": 388,
     "status": "aborted",
     "timestamp": 1648578472253,
     "user": {
      "displayName": "Willian dos Santos Pereira",
      "userId": "14574313425442770033"
     },
     "user_tz": 180
    },
    "id": "sT7ARu9Tuxka"
   },
   "outputs": [],
   "source": [
    "y_pred_svm_tfidf_vec = avalia_modelo_score(SVC(kernel='linear'), get_vectorize_instance('TfidfVectorizer'), X_train, X_test, y_train, y_test)"
   ]
  },
  {
   "cell_type": "markdown",
   "metadata": {
    "id": "5lwlUhAK6RRU"
   },
   "source": [
    "#### SGDClassifier"
   ]
  },
  {
   "cell_type": "code",
   "execution_count": null,
   "metadata": {
    "executionInfo": {
     "elapsed": 389,
     "status": "aborted",
     "timestamp": 1648578472254,
     "user": {
      "displayName": "Willian dos Santos Pereira",
      "userId": "14574313425442770033"
     },
     "user_tz": 180
    },
    "id": "VxNnu_92u66f"
   },
   "outputs": [],
   "source": [
    "y_pred_sgd_count_vect = avalia_modelo_score(SGDClassifier(loss=\"log\", penalty=\"l2\"), get_vectorize_instance('CountVectorizer'), X_train, X_test, y_train, y_test)"
   ]
  },
  {
   "cell_type": "code",
   "execution_count": null,
   "metadata": {
    "executionInfo": {
     "elapsed": 389,
     "status": "aborted",
     "timestamp": 1648578472254,
     "user": {
      "displayName": "Willian dos Santos Pereira",
      "userId": "14574313425442770033"
     },
     "user_tz": 180
    },
    "id": "8q1ybK1Au7OP"
   },
   "outputs": [],
   "source": [
    "y_pred_sgd_tfidf_vec = avalia_modelo_score(SGDClassifier(loss=\"log\", penalty=\"l2\"), get_vectorize_instance('TfidfVectorizer'), X_train, X_test, y_train, y_test)"
   ]
  },
  {
   "cell_type": "markdown",
   "metadata": {
    "id": "Wf-rQHbCSUex"
   },
   "source": [
    "#### Decision Tree"
   ]
  },
  {
   "cell_type": "code",
   "execution_count": null,
   "metadata": {
    "executionInfo": {
     "elapsed": 389,
     "status": "aborted",
     "timestamp": 1648578472254,
     "user": {
      "displayName": "Willian dos Santos Pereira",
      "userId": "14574313425442770033"
     },
     "user_tz": 180
    },
    "id": "xg9D2JLPS3cm"
   },
   "outputs": [],
   "source": [
    "y_pred_dtc_count_vec = avalia_modelo_score(DecisionTreeClassifier(criterion=\"gini\"), get_vectorize_instance('CountVectorizer'), X_train, X_test, y_train, y_test)"
   ]
  },
  {
   "cell_type": "code",
   "execution_count": null,
   "metadata": {
    "executionInfo": {
     "elapsed": 390,
     "status": "aborted",
     "timestamp": 1648578472255,
     "user": {
      "displayName": "Willian dos Santos Pereira",
      "userId": "14574313425442770033"
     },
     "user_tz": 180
    },
    "id": "yKEhmgjDSrWr"
   },
   "outputs": [],
   "source": [
    "y_pred_dtc_tfidf_vec = avalia_modelo_score(DecisionTreeClassifier(criterion=\"gini\"), get_vectorize_instance('TfidfVectorizer'), X_train, X_test, y_train, y_test)"
   ]
  },
  {
   "cell_type": "markdown",
   "metadata": {
    "id": "wA9OnKbHVJ9H"
   },
   "source": [
    "#### K-Neighbors Classifier"
   ]
  },
  {
   "cell_type": "code",
   "execution_count": null,
   "metadata": {
    "executionInfo": {
     "elapsed": 389,
     "status": "aborted",
     "timestamp": 1648578472255,
     "user": {
      "displayName": "Willian dos Santos Pereira",
      "userId": "14574313425442770033"
     },
     "user_tz": 180
    },
    "id": "19tsJC4aVZec"
   },
   "outputs": [],
   "source": [
    "y_pred_knc_count_vec = avalia_modelo_score(KNeighborsClassifier(n_neighbors=5), get_vectorize_instance('CountVectorizer'), X_train, X_test, y_train, y_test)"
   ]
  },
  {
   "cell_type": "code",
   "execution_count": null,
   "metadata": {
    "executionInfo": {
     "elapsed": 389,
     "status": "aborted",
     "timestamp": 1648578472255,
     "user": {
      "displayName": "Willian dos Santos Pereira",
      "userId": "14574313425442770033"
     },
     "user_tz": 180
    },
    "id": "H9ryewjWVOY9"
   },
   "outputs": [],
   "source": [
    "y_pred_knc_tfidf_vec = avalia_modelo_score(KNeighborsClassifier(n_neighbors=13), get_vectorize_instance('TfidfVectorizer'), X_train, X_test, y_train, y_test)"
   ]
  },
  {
   "cell_type": "markdown",
   "metadata": {
    "id": "TG83ItTxbgGt"
   },
   "source": [
    "#### Gradient Boosting Classifier"
   ]
  },
  {
   "cell_type": "code",
   "execution_count": null,
   "metadata": {
    "executionInfo": {
     "elapsed": 390,
     "status": "aborted",
     "timestamp": 1648578472256,
     "user": {
      "displayName": "Willian dos Santos Pereira",
      "userId": "14574313425442770033"
     },
     "user_tz": 180
    },
    "id": "Lr-1evBvbzbH"
   },
   "outputs": [],
   "source": [
    "y_pred_gbc_count_vec = avalia_modelo_score(GradientBoostingClassifier(n_estimators=150), get_vectorize_instance('CountVectorizer'), X_train, X_test, y_train, y_test)"
   ]
  },
  {
   "cell_type": "code",
   "execution_count": null,
   "metadata": {
    "executionInfo": {
     "elapsed": 390,
     "status": "aborted",
     "timestamp": 1648578472256,
     "user": {
      "displayName": "Willian dos Santos Pereira",
      "userId": "14574313425442770033"
     },
     "user_tz": 180
    },
    "id": "UGJz4XNa72JJ"
   },
   "outputs": [],
   "source": [
    "y_pred_gbc_tfidfcount_vec = avalia_modelo_score(GradientBoostingClassifier(n_estimators=10), get_vectorize_instance('TfidfVectorizer'), X_train, X_test, y_train, y_test)"
   ]
  },
  {
   "cell_type": "code",
   "execution_count": null,
   "metadata": {
    "executionInfo": {
     "elapsed": 390,
     "status": "aborted",
     "timestamp": 1648578472256,
     "user": {
      "displayName": "Willian dos Santos Pereira",
      "userId": "14574313425442770033"
     },
     "user_tz": 180
    },
    "id": "Gx8ZbfYyNoes"
   },
   "outputs": [],
   "source": [
    "# a, b = vectorize_dataframe(get_vectorize_instance('TfidfVectorizer'), X_train, y_train)"
   ]
  },
  {
   "cell_type": "code",
   "execution_count": null,
   "metadata": {
    "executionInfo": {
     "elapsed": 391,
     "status": "aborted",
     "timestamp": 1648578472257,
     "user": {
      "displayName": "Willian dos Santos Pereira",
      "userId": "14574313425442770033"
     },
     "user_tz": 180
    },
    "id": "hXOS14eqa2QF"
   },
   "outputs": [],
   "source": [
    "# a"
   ]
  },
  {
   "cell_type": "code",
   "execution_count": null,
   "metadata": {
    "executionInfo": {
     "elapsed": 391,
     "status": "aborted",
     "timestamp": 1648578472257,
     "user": {
      "displayName": "Willian dos Santos Pereira",
      "userId": "14574313425442770033"
     },
     "user_tz": 180
    },
    "id": "LBlmKc-6a3Ii"
   },
   "outputs": [],
   "source": [
    "# b"
   ]
  },
  {
   "cell_type": "code",
   "execution_count": null,
   "metadata": {
    "executionInfo": {
     "elapsed": 391,
     "status": "aborted",
     "timestamp": 1648578472257,
     "user": {
      "displayName": "Willian dos Santos Pereira",
      "userId": "14574313425442770033"
     },
     "user_tz": 180
    },
    "id": "-zbnbS6FbRuV"
   },
   "outputs": [],
   "source": [
    "# from sklearn.preprocessing import LabelEncoder\n",
    "\n",
    "# labelencoder = LabelEncoder()\n",
    "# y_train_enco = labelencoder.fit_transform(y_train)\n",
    "\n",
    "# y_train_enco"
   ]
  },
  {
   "cell_type": "code",
   "execution_count": null,
   "metadata": {
    "executionInfo": {
     "elapsed": 392,
     "status": "aborted",
     "timestamp": 1648578472258,
     "user": {
      "displayName": "Willian dos Santos Pereira",
      "userId": "14574313425442770033"
     },
     "user_tz": 180
    },
    "id": "pDfRxbqHa4mH"
   },
   "outputs": [],
   "source": [
    "# scores = cross_validate(RandomForestClassifier(n_estimators=100), a, y_train_enco, cv=3, scoring='accuracy', return_train_score=True, error_score='raise')"
   ]
  },
  {
   "cell_type": "code",
   "execution_count": null,
   "metadata": {
    "executionInfo": {
     "elapsed": 392,
     "status": "aborted",
     "timestamp": 1648578472258,
     "user": {
      "displayName": "Willian dos Santos Pereira",
      "userId": "14574313425442770033"
     },
     "user_tz": 180
    },
    "id": "a-63Y3_0btFq"
   },
   "outputs": [],
   "source": [
    "# scores"
   ]
  },
  {
   "cell_type": "code",
   "execution_count": null,
   "metadata": {
    "executionInfo": {
     "elapsed": 392,
     "status": "aborted",
     "timestamp": 1648578472258,
     "user": {
      "displayName": "Willian dos Santos Pereira",
      "userId": "14574313425442770033"
     },
     "user_tz": 180
    },
    "id": "Lsi2Cf55gidQ"
   },
   "outputs": [],
   "source": [
    "# # example of grid searching key hyperparameters for gradient boosting on a classification dataset\n",
    "# from sklearn.datasets import make_classification\n",
    "# from sklearn.model_selection import RepeatedStratifiedKFold\n",
    "# from sklearn.model_selection import GridSearchCV\n",
    "# from sklearn.ensemble import GradientBoostingClassifier\n",
    "# # define dataset\n",
    "# # X, y = make_classification(n_samples=1000, n_features=20, n_informative=15, n_redundant=5, random_state=7)\n",
    "# # define the model with default hyperparameters\n",
    "# model = GradientBoostingClassifier()\n",
    "# # define the grid of values to search\n",
    "# grid = dict()\n",
    "# grid['n_estimators'] = [10, 50, 100, 500]\n",
    "# grid['learning_rate'] = [0.0001, 0.001, 0.01, 0.1, 1.0]\n",
    "# grid['subsample'] = [0.5, 0.7, 1.0]\n",
    "# grid['max_depth'] = [3, 7, 9]\n",
    "# # define the evaluation procedure\n",
    "# cv = RepeatedStratifiedKFold(n_splits=2, n_repeats=2, random_state=1)\n",
    "# # define the grid search procedure\n",
    "# grid_search = GridSearchCV(estimator=model, param_grid=grid, n_jobs=-1, cv=cv, scoring='accuracy')\n",
    "# # execute the grid search\n",
    "# grid_result = grid_search.fit(a, y_train_enco)\n",
    "# # summarize the best score and configuration\n",
    "# print(\"Best: %f using %s\" % (grid_result.best_score_, grid_result.best_params_))\n",
    "# # summarize all scores that were evaluated\n",
    "# means = grid_result.cv_results_['mean_test_score']\n",
    "# stds = grid_result.cv_results_['std_test_score']\n",
    "# params = grid_result.cv_results_['params']\n",
    "# for mean, stdev, param in zip(means, stds, params):\n",
    "#     print(\"%f (%f) with: %r\" % (mean, stdev, param))"
   ]
  },
  {
   "cell_type": "markdown",
   "metadata": {
    "id": "pCSzMYP35cZK"
   },
   "source": [
    "#### Unbalanced Class\n",
    "#### Oversampling"
   ]
  },
  {
   "cell_type": "code",
   "execution_count": null,
   "metadata": {
    "executionInfo": {
     "elapsed": 392,
     "status": "aborted",
     "timestamp": 1648578472258,
     "user": {
      "displayName": "Willian dos Santos Pereira",
      "userId": "14574313425442770033"
     },
     "user_tz": 180
    },
    "id": "khRTdguF5cBm"
   },
   "outputs": [],
   "source": [
    "# from imblearn.over_sampling import SMOTE\n",
    "\n",
    "# smote = SMOTE('minority')\n",
    "\n",
    "# x_train_teste_smote, y_train_teste_smote = vectorize_dataframe(get_vectorize_instance('TfidfVectorizer'), X_train, y_train)\n",
    "\n",
    "# X_smote, y_smote = smote.fit_resample(x_train_teste_smote, y_train_teste_smote)"
   ]
  },
  {
   "cell_type": "code",
   "execution_count": null,
   "metadata": {
    "executionInfo": {
     "elapsed": 392,
     "status": "aborted",
     "timestamp": 1648578472259,
     "user": {
      "displayName": "Willian dos Santos Pereira",
      "userId": "14574313425442770033"
     },
     "user_tz": 180
    },
    "id": "h8Fc5e0_-W_S"
   },
   "outputs": [],
   "source": [
    "# print(pd.DataFrame(X_train).shape, pd.DataFrame(y_train).shape)"
   ]
  },
  {
   "cell_type": "code",
   "execution_count": null,
   "metadata": {
    "executionInfo": {
     "elapsed": 392,
     "status": "aborted",
     "timestamp": 1648578472259,
     "user": {
      "displayName": "Willian dos Santos Pereira",
      "userId": "14574313425442770033"
     },
     "user_tz": 180
    },
    "id": "3XeYJwkk-EJ-"
   },
   "outputs": [],
   "source": [
    "# print(X_smote.shape, y_smote.shape)"
   ]
  },
  {
   "cell_type": "code",
   "execution_count": null,
   "metadata": {
    "executionInfo": {
     "elapsed": 392,
     "status": "aborted",
     "timestamp": 1648578472259,
     "user": {
      "displayName": "Willian dos Santos Pereira",
      "userId": "14574313425442770033"
     },
     "user_tz": 180
    },
    "id": "9tGmBeQlA83w"
   },
   "outputs": [],
   "source": [
    "# y_pred_sgd_count_vect = avalia_modelo_score(SGDClassifier(loss=\"log\", penalty=\"l2\"), get_vectorize_instance('CountVectorizer'), X_smote, X_test, y_smote, y_test)"
   ]
  },
  {
   "cell_type": "markdown",
   "metadata": {
    "id": "G03_-osOkHyT"
   },
   "source": [
    "#### UnderSampling"
   ]
  },
  {
   "cell_type": "code",
   "execution_count": null,
   "metadata": {
    "executionInfo": {
     "elapsed": 393,
     "status": "aborted",
     "timestamp": 1648578472260,
     "user": {
      "displayName": "Willian dos Santos Pereira",
      "userId": "14574313425442770033"
     },
     "user_tz": 180
    },
    "id": "fEAQ8f4Xmmgr"
   },
   "outputs": [],
   "source": [
    "# type(X_under)"
   ]
  },
  {
   "cell_type": "markdown",
   "metadata": {
    "id": "STrgNTmO8mge"
   },
   "source": [
    "#### Tensor Torch"
   ]
  },
  {
   "cell_type": "code",
   "execution_count": null,
   "metadata": {
    "executionInfo": {
     "elapsed": 393,
     "status": "aborted",
     "timestamp": 1648578472260,
     "user": {
      "displayName": "Willian dos Santos Pereira",
      "userId": "14574313425442770033"
     },
     "user_tz": 180
    },
    "id": "mWp5EbW7XjqZ"
   },
   "outputs": [],
   "source": [
    "# from sklearn.preprocessing import LabelEncoder\n",
    "# from transformers import BertTokenizer\n",
    "\n",
    "# labelencoder = LabelEncoder()\n",
    "# df['emocao_enc'] = labelencoder.fit_transform(df['emocao'])\n",
    "\n",
    "# df[:10]\n",
    "\n",
    "# X_train, X_test, y_train, y_test = train_test_split(df['texto'], df['emocao_enc'], random_state=41, test_size=0.1)"
   ]
  },
  {
   "cell_type": "code",
   "execution_count": null,
   "metadata": {
    "executionInfo": {
     "elapsed": 395,
     "status": "aborted",
     "timestamp": 1648578472262,
     "user": {
      "displayName": "Willian dos Santos Pereira",
      "userId": "14574313425442770033"
     },
     "user_tz": 180
    },
    "id": "3t80eKPxYziX"
   },
   "outputs": [],
   "source": [
    "# ## create label and sentence list\n",
    "# textos = df['texto'].values\n",
    "\n",
    "# #check distribution of data based on labels\n",
    "# print(\"Distribution of data based on labels: \", df['emocao_enc'].value_counts())\n",
    "\n",
    "# # Set the maximum sequence length. The longest sequence in our training set is 47, but we'll leave room on the end anyway. \n",
    "# # In the original paper, the authors used a length of 512.\n",
    "# MAX_LEN = 256\n",
    "\n",
    "# ## Import BERT tokenizer, that is used to convert our text into tokens that corresponds to BERT library\n",
    "# tokenizer = BertTokenizer.from_pretrained('bert-base-uncased', do_lower_case=True)\n",
    "# textos_ids = [tokenizer.encode(txt, add_special_tokens=True ,max_length=MAX_LEN, pad_to_max_length=True) for txt in textos]\n",
    "# emocoes_labels = df['emocao_enc'].values\n",
    "\n",
    "# print(\"\\n Actual sentence before tokenization: \", textos[2])\n",
    "# print(\"\\n Encoded Input from dataset: \", textos_ids[2])\n",
    "\n",
    "# ## Create attention mask\n",
    "# attention_masks = []\n",
    "# ## Create a mask of 1 for all input tokens and 0 for all padding tokens\n",
    "# attention_masks = [[float(i>0) for i in seq] for seq in textos_ids]\n",
    "# print('\\n Attention_masks: {}'.format(attention_masks[2]))"
   ]
  },
  {
   "cell_type": "markdown",
   "metadata": {
    "id": "PRKUjuJGF8pi"
   },
   "source": [
    "#### Avaliador do n_stimators"
   ]
  },
  {
   "cell_type": "code",
   "execution_count": null,
   "metadata": {
    "executionInfo": {
     "elapsed": 395,
     "status": "aborted",
     "timestamp": 1648578472262,
     "user": {
      "displayName": "Willian dos Santos Pereira",
      "userId": "14574313425442770033"
     },
     "user_tz": 180
    },
    "id": "QHzEiYRhGAzd"
   },
   "outputs": [],
   "source": [
    "# from sklearn.ensemble import RandomForestClassifier\n",
    "# from sklearn.metrics import accuracy_score\n",
    "\n",
    "# #  X_train, X_test, y_train, y_test\n",
    "\n",
    "# scores =[]\n",
    "# for k in range(50, 1001, 50):\n",
    "#     print('n_estimators: {}'.format(k))\n",
    "#     rfc = RandomForestClassifier(n_estimators=k)\n",
    "#     rfc.fit(X_train, y_train[0])\n",
    "#     y_pred = rfc.predict(X_test)\n",
    "#     scores.append(accuracy_score(y_test[0], y_pred))\n",
    "\n",
    "# import matplotlib.pyplot as plt\n",
    "# %matplotlib inline\n",
    "\n",
    "# # desenha a relação entre o n_stimator com a acurácia\n",
    "# # plt.plot(x_axis, y_axis)\n",
    "# plt.plot(range(50, 1001, 50), scores)\n",
    "# plt.xlabel('Valor do n_estimators para o Random Forest Classifier')\n",
    "# plt.ylabel('Testando acuracia')"
   ]
  },
  {
   "cell_type": "markdown",
   "metadata": {
    "id": "XAH6fk6NfB44"
   },
   "source": [
    "#### Criar um Classifier: é um modelo de machine learning que será usado para classificar qual tipo de emoção o texto possui (No exemplo do Siraj Raval ele utiliza uma arvore de decisão (randomForestClassifier) "
   ]
  },
  {
   "cell_type": "markdown",
   "metadata": {
    "id": "yFP1OrC1kvJj"
   },
   "source": [
    "#### Opinion Minning - Sentimental Analysis, \n",
    "#### 1 - Lexicon - Análise Lexicocráfica (tokenization), nessa forma os texto são divididos em palavras e cada palavra ganha um numero de acordo com a quantidade de aparições no texto. Assim, é montado um dicionário numérico de acordo com o texto (Bag of Words) - Bag Of Words Model. Após a tokenização, o modelo olha a subjetividade da cada palavra de um lexico existente, que é uma base de dados com valores emocionais para as palavras já gravados por pesquisadores. Uma vez tendo esses valores, podemos calculadra pontuação geral da subjetividade do texto (positivo, negativo ou neutro) - Não funciona por exemplo em casos de sarcasmo\n",
    "#### 2 - Machine Learning (Vectors)"
   ]
  },
  {
   "cell_type": "markdown",
   "metadata": {
    "id": "1fJNYKyFvuGQ"
   },
   "source": [
    "#### Dados desbalanceados\n",
    "#### para tratar esse tipo de dataset, podemos tomar 2 tipos de abordagem. \n",
    "\n",
    "#### Gerar sinteticamente novos registros (técnica de Oversampling) fazendo com que a classe que tem menor quantidade de amostras (minoritária) tenha um número maior de dados. O cuidado ao usar esse tipo de técnica pode gerar dados \"dupicados\" podem gerar um overfitting do modelo\n",
    "\n",
    "#### Igualar as outras classes mioritárias com a minoritária (técnica de Undersampling). O uso dessa técnica pode gerar uma diminuição considerável no tamanho do dataset"
   ]
  }
 ],
 "metadata": {
  "colab": {
   "authorship_tag": "ABX9TyMG02q39tJHng2jAd9hg/vh",
   "collapsed_sections": [
    "FnWzRI0p6Rv8",
    "At17kj3m6lnL",
    "l_kN8q5RbieO",
    "_QBVSHNIbwBu",
    "f5R5Ou66q4r6",
    "FYr2VVjobKHV",
    "pCSzMYP35cZK",
    "G03_-osOkHyT",
    "PRKUjuJGF8pi",
    "XAH6fk6NfB44",
    "yFP1OrC1kvJj",
    "1fJNYKyFvuGQ"
   ],
   "mount_file_id": "1SsvDEWl_jATyCdx_DYQR29gqlzY-y_3c",
   "name": "Analise_Emocao.ipynb",
   "provenance": []
  },
  "kernelspec": {
   "display_name": "Python 3 (ipykernel)",
   "language": "python",
   "name": "python3"
  },
  "language_info": {
   "codemirror_mode": {
    "name": "ipython",
    "version": 3
   },
   "file_extension": ".py",
   "mimetype": "text/x-python",
   "name": "python",
   "nbconvert_exporter": "python",
   "pygments_lexer": "ipython3",
   "version": "3.10.4"
  }
 },
 "nbformat": 4,
 "nbformat_minor": 1
}
